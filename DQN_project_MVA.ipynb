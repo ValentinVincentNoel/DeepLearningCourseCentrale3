{
  "nbformat": 4,
  "nbformat_minor": 0,
  "metadata": {
    "colab": {
      "name": "DQN_project_MVA.ipynb",
      "version": "0.3.2",
      "provenance": [],
      "collapsed_sections": [],
      "include_colab_link": true
    },
    "kernelspec": {
      "display_name": "Python 3",
      "language": "python",
      "name": "python3"
    }
  },
  "cells": [
    {
      "cell_type": "markdown",
      "metadata": {
        "id": "view-in-github",
        "colab_type": "text"
      },
      "source": [
        "<a href=\"https://colab.research.google.com/github/ValentinVincentNoel/DeepLearningCourseCentrale3/blob/master/DQN_project_MVA.ipynb\" target=\"_parent\"><img src=\"https://colab.research.google.com/assets/colab-badge.svg\" alt=\"Open In Colab\"/></a>"
      ]
    },
    {
      "metadata": {
        "id": "hbr5l0FDoUWF",
        "colab_type": "text"
      },
      "cell_type": "markdown",
      "source": [
        "**You may need to install [OpenCV](https://pypi.python.org/pypi/opencv-python) and [scikit-video](http://www.scikit-video.org/stable/).**"
      ]
    },
    {
      "metadata": {
        "id": "G1uJbd0AoUWG",
        "colab_type": "code",
        "colab": {
          "base_uri": "https://localhost:8080/",
          "height": 34
        },
        "outputId": "be357155-b0e4-4f4c-b63e-a31956595ca8"
      },
      "cell_type": "code",
      "source": [
        "!pip install -q scikit-video\n",
        "\n",
        "import keras\n",
        "import numpy as np\n",
        "import io\n",
        "import base64\n",
        "from IPython.display import HTML\n",
        "import skvideo.io\n",
        "import cv2\n",
        "import json\n",
        "\n",
        "from keras.models import Sequential,model_from_json\n",
        "from keras.layers.core import Dense\n",
        "from keras.optimizers import sgd\n",
        "from keras.layers import Conv2D, MaxPooling2D, Activation, AveragePooling2D,Reshape,BatchNormalization"
      ],
      "execution_count": 2,
      "outputs": [
        {
          "output_type": "stream",
          "text": [
            "\u001b[K    100% |████████████████████████████████| 2.3MB 7.0MB/s \n",
            "\u001b[?25h"
          ],
          "name": "stdout"
        }
      ]
    },
    {
      "metadata": {
        "id": "l66SpUxroUWJ",
        "colab_type": "text"
      },
      "cell_type": "markdown",
      "source": [
        "# MiniProject #3: Deep Reinforcement Learning"
      ]
    },
    {
      "metadata": {
        "id": "5CCsyKlooUWK",
        "colab_type": "text"
      },
      "cell_type": "markdown",
      "source": [
        "__Notations__: $E_p$ is the expectation under probability $p$. Please justify each of your answer and widely comment your code."
      ]
    },
    {
      "metadata": {
        "id": "uWOE980eoUWL",
        "colab_type": "text"
      },
      "cell_type": "markdown",
      "source": [
        "# Context"
      ]
    },
    {
      "metadata": {
        "id": "sWQwTvMZoUWM",
        "colab_type": "text"
      },
      "cell_type": "markdown",
      "source": [
        "In a reinforcement learning algorithm, we modelize each step $t$ as an action $a_t$ obtained from a state $s_t$, i.e. $\\{(a_{t},s_{t})_{t\\leq T}\\}$ having the Markov property. We consider a discount factor $\\gamma \\in [0,1]$ that ensures convergence. The goal is to find among all the policies $\\pi$, one that maximizes the expected reward:\n",
        "\n",
        "\\begin{equation*}\n",
        "R(\\pi)=\\sum_{t\\leq T}E_{p^{\\pi}}[\\gamma^t r(s_{t},a_{t})] \\> ,\n",
        "\\end{equation*}\n",
        "\n",
        "where: \n",
        "\\begin{equation*}p^{\\pi}(a_{0},a_{1},s_{1},...,a_{T},s_{T})=p(a_{0})\\prod_{t=1}^{T}\\pi(a_{t}|s_{t})p(s_{t+1}|s_{t},a_{t}) \\> .\n",
        "\\end{equation*}\n",
        "\n",
        "We note the $Q$-function:\n",
        "\n",
        "\\begin{equation*}Q^\\pi(s,a)=E_{p^{\\pi}}[\\sum_{t\\leq T}\\gamma^{t}r(s_{t},a_{t})|s_{0}=s,a_{0}=a] \\> .\n",
        "\\end{equation*}\n",
        "\n",
        "Thus, the optimal Q function is:\n",
        "\\begin{equation*}\n",
        "Q^*(s,a)=\\max_{\\pi}Q^\\pi(s,a) \\> .\n",
        "\\end{equation*}\n",
        "\n",
        "In this project, we will apply the deep reinforcement learning techniques to a simple game: an agent will have to learn from scratch a policy that will permit it maximizing a reward."
      ]
    },
    {
      "metadata": {
        "id": "hjgWDOt7oUWN",
        "colab_type": "text"
      },
      "cell_type": "markdown",
      "source": [
        "## The environment, the agent and the game"
      ]
    },
    {
      "metadata": {
        "id": "2tJnD5s_oUWO",
        "colab_type": "text"
      },
      "cell_type": "markdown",
      "source": [
        "### The environment"
      ]
    },
    {
      "metadata": {
        "id": "NVdoSUXwoUWP",
        "colab_type": "text"
      },
      "cell_type": "markdown",
      "source": [
        "```Environment``` is an abstract class that represents the states, rewards, and actions to obtain the new state."
      ]
    },
    {
      "metadata": {
        "id": "-2zFVSHBoUWQ",
        "colab_type": "code",
        "colab": {}
      },
      "cell_type": "code",
      "source": [
        "class Environment(object):\n",
        "    def __init__(self):\n",
        "        pass\n",
        "\n",
        "    def act(self, act):\n",
        "        \"\"\"\n",
        "        One can act on the environment and obtain its reaction:\n",
        "        - the new state\n",
        "        - the reward of the new state\n",
        "        - should we continue the game?\n",
        "\n",
        "        :return: state, reward, game_over\n",
        "        \"\"\"\n",
        "        pass\n",
        "\n",
        "\n",
        "    def reset(self):\n",
        "        \"\"\"\n",
        "        Reinitialize the environment to a random state and returns\n",
        "        the original state\n",
        "\n",
        "        :return: state\n",
        "        \"\"\"\n",
        "        pass\n",
        "    \n",
        "    def draw(self):\n",
        "        \"\"\"\n",
        "        Visualize in the console or graphically the current state\n",
        "        \"\"\"\n",
        "        pass"
      ],
      "execution_count": 0,
      "outputs": []
    },
    {
      "metadata": {
        "id": "sOl4J0N-oUWT",
        "colab_type": "text"
      },
      "cell_type": "markdown",
      "source": [
        "The method ```act``` allows to act on the environment at a given state $s_t$ (stored internally), via action $a_t$. The method will return the new state $s_{t+1}$, the reward $r(s_{t},a_{t})$ and determines if $t\\leq T$ (*game_over*).\n",
        "\n",
        "The method ```reset``` simply reinitializes the environment to a random state $s_0$.\n",
        "\n",
        "The method ```draw``` displays the current state $s_t$ (this is useful to check the behavior of the Agent).\n",
        "\n",
        "We modelize $s_t$ as a tensor, while $a_t$ is an integer."
      ]
    },
    {
      "metadata": {
        "id": "dqzu4PMGoUWU",
        "colab_type": "text"
      },
      "cell_type": "markdown",
      "source": [
        "### The Agent"
      ]
    },
    {
      "metadata": {
        "id": "p3Zf3YnhoUWV",
        "colab_type": "text"
      },
      "cell_type": "markdown",
      "source": [
        "The goal of the ```Agent``` is to interact with the ```Environment``` by proposing actions $a_t$ obtained from a given state $s_t$ to attempt to maximize its __reward__ $r(s_t,a_t)$. We propose the following abstract class:"
      ]
    },
    {
      "metadata": {
        "id": "4VmCi6tjoUWW",
        "colab_type": "code",
        "colab": {}
      },
      "cell_type": "code",
      "source": [
        "class Agent(object):\n",
        "    def __init__(self, epsilon=0.1, n_action=4):\n",
        "        self.epsilon = epsilon\n",
        "        self.n_action = n_action\n",
        "    \n",
        "    def set_epsilon(self,e):\n",
        "        self.epsilon = e\n",
        "\n",
        "    def act(self,s,train=True):\n",
        "        \"\"\" This function should return the next action to do:\n",
        "        an integer between 0 and 4 (not included) with a random exploration of epsilon\"\"\"\n",
        "        if train:\n",
        "            if np.random.rand() <= self.epsilon:\n",
        "                a = np.random.randint(0, self.n_action, size=1)[0]\n",
        "            else:\n",
        "                a = self.learned_act(s)\n",
        "        else: # in some cases, this can improve the performance.. remove it if poor performances\n",
        "            a = self.learned_act(s)\n",
        "\n",
        "        return a\n",
        "\n",
        "    def learned_act(self,s):\n",
        "        \"\"\" Act via the policy of the agent, from a given state s\n",
        "        it proposes an action a\"\"\"\n",
        "        pass\n",
        "\n",
        "    def reinforce(self, s, n_s, a, r, game_over_):\n",
        "        \"\"\" This function is the core of the learning algorithm. \n",
        "        It takes as an input the current state s_, the next state n_s_\n",
        "        the action a_ used to move from s_ to n_s_ and the reward r_.\n",
        "        \n",
        "        Its goal is to learn a policy.\n",
        "        \"\"\"\n",
        "        pass\n",
        "\n",
        "    def save(self):\n",
        "        \"\"\" This function returns basic stats if applicable: the\n",
        "        loss and/or the model\"\"\"\n",
        "        pass\n",
        "\n",
        "    def load(self):\n",
        "        \"\"\" This function allows to restore a model\"\"\"\n",
        "        pass"
      ],
      "execution_count": 0,
      "outputs": []
    },
    {
      "metadata": {
        "id": "iFqsY0BKoUWZ",
        "colab_type": "text"
      },
      "cell_type": "markdown",
      "source": [
        "***\n",
        "__Question 1__:\n",
        "Explain the function act. Why is ```epsilon``` essential?"
      ]
    },
    {
      "metadata": {
        "id": "RCYVMFwzoUWa",
        "colab_type": "text"
      },
      "cell_type": "markdown",
      "source": [
        "The function act is the policy. Sometimes it follows the best path so far, and sometimes it decides to randomly explore other states.\n",
        "\n",
        "The agent must explore possible actions to learn their consequences. If he only follows the action that maximizes his reward, he cannot \"learn\" a potentially better alternative. Epsilon symbolizes where the agent places himself in the exploration-exploitation dilemma."
      ]
    },
    {
      "metadata": {
        "id": "kFH4eO48oUWb",
        "colab_type": "text"
      },
      "cell_type": "markdown",
      "source": [
        "***\n",
        "### The Game"
      ]
    },
    {
      "metadata": {
        "id": "rrci2cC5oUWc",
        "colab_type": "text"
      },
      "cell_type": "markdown",
      "source": [
        "The ```Agent``` and the ```Environment``` work in an interlaced way as in the following (take some time to understand this code as it is the core of the project)\n",
        "\n",
        "```python\n",
        "\n",
        "epoch = 300\n",
        "env = Environment()\n",
        "agent = Agent()\n",
        "\n",
        "\n",
        "# Number of won games\n",
        "score = 0\n",
        "loss = 0\n",
        "\n",
        "\n",
        "for e in range(epoch):\n",
        "    # At each epoch, we restart to a fresh game and get the initial state\n",
        "    state = env.reset()\n",
        "    # This assumes that the games will end\n",
        "    game_over = False\n",
        "\n",
        "    win = 0\n",
        "    lose = 0\n",
        "    \n",
        "    while not game_over:\n",
        "        # The agent performs an action\n",
        "        action = agent.act(state)\n",
        "\n",
        "        # Apply an action to the environment, get the next state, the reward\n",
        "        # and if the games end\n",
        "        prev_state = state\n",
        "        state, reward, game_over = env.act(action)\n",
        "\n",
        "        # Update the counters\n",
        "        if reward > 0:\n",
        "            win = win + reward\n",
        "        if reward < 0:\n",
        "            lose = lose -reward\n",
        "\n",
        "        # Apply the reinforcement strategy\n",
        "        loss = agent.reinforce(prev_state, state,  action, reward, game_over)\n",
        "\n",
        "    # Save as a mp4\n",
        "    if e % 10 == 0:\n",
        "        env.draw(e)\n",
        "\n",
        "    # Update stats\n",
        "    score += win-lose\n",
        "\n",
        "    print(\"Epoch {:03d}/{:03d} | Loss {:.4f} | Win/lose count {}/{} ({})\"\n",
        "          .format(e, epoch, loss, win, lose, win-lose))\n",
        "    agent.save()\n",
        "```"
      ]
    },
    {
      "metadata": {
        "id": "VKhdPNedoUWd",
        "colab_type": "text"
      },
      "cell_type": "markdown",
      "source": [
        "# The game, *eat cheese*"
      ]
    },
    {
      "metadata": {
        "id": "NDyMdbaDoUWe",
        "colab_type": "text"
      },
      "cell_type": "markdown",
      "source": [
        "A rat runs on an island and tries to eat as much as possible. The island is subdivided into $N\\times N$ cells, in which there are cheese (+0.5) and poisonous cells (-1). The rat has a visibility of 2 cells (thus it can see $5^2$ cells). The rat is given a time $T$ to accumulate as much food as possible. It can perform 4 actions: going up, down, left, right. \n",
        "\n",
        "The goal is to code an agent to solve this task that will learn by trial and error. We propose the following environment:"
      ]
    },
    {
      "metadata": {
        "id": "lVSicOvioUWf",
        "colab_type": "code",
        "colab": {}
      },
      "cell_type": "code",
      "source": [
        "class Environment(object):\n",
        "    def __init__(self, grid_size=10, max_time=500, temperature=0.1):\n",
        "        grid_size = grid_size+4\n",
        "        self.grid_size = grid_size\n",
        "        self.max_time = max_time\n",
        "        self.temperature = temperature\n",
        "\n",
        "        #board on which one plays\n",
        "        self.board = np.zeros((grid_size,grid_size))\n",
        "        self.position = np.zeros((grid_size,grid_size))\n",
        "\n",
        "        # coordinate of the cat\n",
        "        self.x = 0\n",
        "        self.y = 1\n",
        "\n",
        "        # self time\n",
        "        self.t = 0\n",
        "\n",
        "        self.scale=16\n",
        "\n",
        "        self.to_draw = np.zeros((max_time+2, grid_size*self.scale, grid_size*self.scale, 3))\n",
        "\n",
        "\n",
        "    def draw(self,e):\n",
        "        skvideo.io.vwrite(str(e) + '.mp4', self.to_draw)\n",
        "\n",
        "    def get_frame(self,t):\n",
        "        b = np.zeros((self.grid_size,self.grid_size,3))+128\n",
        "        b[self.board>0,0] = 256\n",
        "        b[self.board < 0, 2] = 256\n",
        "        b[self.x,self.y,:]=256\n",
        "        b[-2:,:,:]=0\n",
        "        b[:,-2:,:]=0\n",
        "        b[:2,:,:]=0\n",
        "        b[:,:2,:]=0\n",
        "        \n",
        "        b =  cv2.resize(b, None, fx=self.scale, fy=self.scale, interpolation=cv2.INTER_NEAREST)\n",
        "\n",
        "        self.to_draw[t,:,:,:]=b\n",
        "\n",
        "\n",
        "    def act(self, action):\n",
        "        \"\"\"This function returns the new state, reward and decides if the\n",
        "        game ends.\"\"\"\n",
        "\n",
        "        self.get_frame(int(self.t))\n",
        "\n",
        "        self.position = np.zeros((self.grid_size, self.grid_size))\n",
        "\n",
        "        self.position[0:2,:]= -1\n",
        "        self.position[:,0:2] = -1\n",
        "        self.position[-2:, :] = -1\n",
        "        self.position[-2:, :] = -1\n",
        "\n",
        "        self.position[self.x, self.y] = 1\n",
        "        if action == 0:\n",
        "            if self.x == self.grid_size-3:\n",
        "                self.x = self.x-1\n",
        "            else:\n",
        "                self.x = self.x + 1\n",
        "        elif action == 1:\n",
        "            if self.x == 2:\n",
        "                self.x = self.x+1\n",
        "            else:\n",
        "                self.x = self.x-1\n",
        "        elif action == 2:\n",
        "            if self.y == self.grid_size - 3:\n",
        "                self.y = self.y - 1\n",
        "            else:\n",
        "                self.y = self.y + 1\n",
        "        elif action == 3:\n",
        "            if self.y == 2:\n",
        "                self.y = self.y + 1\n",
        "            else:\n",
        "                self.y = self.y - 1\n",
        "        else:\n",
        "            RuntimeError('Error: action not recognized')\n",
        "\n",
        "        self.t = self.t + 1\n",
        "        reward = self.board[self.x, self.y]\n",
        "        self.board[self.x, self.y] = 0\n",
        "        game_over = self.t > self.max_time\n",
        "        state = np.concatenate((self.board.reshape(self.grid_size, self.grid_size,1),\n",
        "                        self.position.reshape(self.grid_size, self.grid_size,1)),axis=2)\n",
        "        state = state[self.x-2:self.x+3,self.y-2:self.y+3,:]\n",
        "\n",
        "        return state, reward, game_over\n",
        "\n",
        "    def reset(self):\n",
        "        \"\"\"This function resets the game and returns the initial state\"\"\"\n",
        "\n",
        "        self.x = np.random.randint(3, self.grid_size-3, size=1)[0]\n",
        "        self.y = np.random.randint(3, self.grid_size-3, size=1)[0]\n",
        "\n",
        "\n",
        "        bonus = 0.5*np.random.binomial(1,self.temperature,size=self.grid_size**2)\n",
        "        bonus = bonus.reshape(self.grid_size,self.grid_size)\n",
        "\n",
        "        malus = -1.0*np.random.binomial(1,self.temperature,size=self.grid_size**2)\n",
        "        malus = malus.reshape(self.grid_size, self.grid_size)\n",
        "\n",
        "        self.to_draw = np.zeros((self.max_time+2, self.grid_size*self.scale, self.grid_size*self.scale, 3))\n",
        "\n",
        "\n",
        "        malus[bonus>0]=0\n",
        "\n",
        "        self.board = bonus + malus\n",
        "\n",
        "        self.position = np.zeros((self.grid_size, self.grid_size))\n",
        "        self.position[0:2,:]= -1\n",
        "        self.position[:,0:2] = -1\n",
        "        self.position[-2:, :] = -1\n",
        "        self.position[-2:, :] = -1\n",
        "        self.board[self.x,self.y] = 0\n",
        "        self.t = 0\n",
        "\n",
        "        state = np.concatenate((\n",
        "                               self.board.reshape(self.grid_size, self.grid_size,1),\n",
        "                        self.position.reshape(self.grid_size, self.grid_size,1)),axis=2)\n",
        "\n",
        "        state = state[self.x - 2:self.x + 3, self.y - 2:self.y + 3, :]\n",
        "        return state"
      ],
      "execution_count": 0,
      "outputs": []
    },
    {
      "metadata": {
        "id": "zrhY_bQ4oUWj",
        "colab_type": "text"
      },
      "cell_type": "markdown",
      "source": [
        "The following elements are important because they correspond to the hyper parameters for this project:"
      ]
    },
    {
      "metadata": {
        "id": "MePjA59qoUWk",
        "colab_type": "code",
        "colab": {}
      },
      "cell_type": "code",
      "source": [
        "# parameters\n",
        "size = 13\n",
        "T=200\n",
        "temperature=0.3\n",
        "epochs_train=100 # set small when debugging\n",
        "epochs_test=10 # set small when debugging\n",
        "\n",
        "# display videos\n",
        "def display_videos(name):\n",
        "    video = io.open(name, 'r+b').read()\n",
        "    encoded = base64.b64encode(video)\n",
        "    return '''<video alt=\"test\" controls>\n",
        "                <source src=\"data:video/mp4;base64,{0}\" type=\"video/mp4\" />\n",
        "             </video>'''.format(encoded.decode('ascii'))"
      ],
      "execution_count": 0,
      "outputs": []
    },
    {
      "metadata": {
        "id": "1pEZRV04oUWo",
        "colab_type": "text"
      },
      "cell_type": "markdown",
      "source": [
        "__Question 2__ Explain the use of the arrays ```position``` and ```board```."
      ]
    },
    {
      "metadata": {
        "id": "yoXQAI2toUWp",
        "colab_type": "text"
      },
      "cell_type": "markdown",
      "source": [
        "*position* is a matrix of size (gird+4)x(grid+4) which is 0 everywhere except at the rat position, where it is 1. It is -1 on a layer of two squares at the edge that define the forbidden positions for the rat (hence the +4). It is useful for defining the state of the environment.\n",
        "\n",
        "*board* is a matrix that symbolizes the location of rewards. Its elements correspond to the rewards (-1 for poison and 0.5 for cheese) and 0 if there is nothing.  It is useful for defining the state of the environment.\n",
        "\n",
        "Both have an extra layer of size 2 around the grid because for the visible window of size 5x5 to be defined when the rat is at the edge."
      ]
    },
    {
      "metadata": {
        "id": "prJCxtEGoUWp",
        "colab_type": "text"
      },
      "cell_type": "markdown",
      "source": [
        "## Random Agent"
      ]
    },
    {
      "metadata": {
        "id": "mT9Z7VWgoUWq",
        "colab_type": "text"
      },
      "cell_type": "markdown",
      "source": [
        "***\n",
        "__Question 3__ Implement a random Agent (only ```learned_act``` needs to be implemented):"
      ]
    },
    {
      "metadata": {
        "id": "MlU218AboUWr",
        "colab_type": "code",
        "colab": {}
      },
      "cell_type": "code",
      "source": [
        "class RandomAgent(Agent):\n",
        "    def __init__(self):\n",
        "        super(RandomAgent, self).__init__()\n",
        "        pass\n",
        "\n",
        "    def learned_act(self, s):\n",
        "        np.random.randint(0, self.n_action, size=1)[0]"
      ],
      "execution_count": 0,
      "outputs": []
    },
    {
      "metadata": {
        "id": "S0K4Fzw1oUWw",
        "colab_type": "text"
      },
      "cell_type": "markdown",
      "source": [
        "***\n",
        "***\n",
        "__Question 4__ Visualize the game moves. You need to fill in the following function for the evaluation:"
      ]
    },
    {
      "metadata": {
        "id": "sg_oeQqGoUW0",
        "colab_type": "code",
        "colab": {}
      },
      "cell_type": "code",
      "source": [
        "def test(agent,env,epochs,prefix=''):\n",
        "    # Number of won games\n",
        "    score = 0\n",
        "        \n",
        "    for e in range(epochs):\n",
        "        \n",
        "        # At each epoch, we restart to a fresh game and get the initial state\n",
        "        state = env.reset()\n",
        "        # This assumes that the games will end\n",
        "        game_over = False\n",
        "\n",
        "        win = 0\n",
        "        lose = 0\n",
        "\n",
        "        while not game_over:\n",
        "            # The agent performs an action\n",
        "            action = agent.act(state)\n",
        "\n",
        "            # Apply an action to the environment, get the next state, the reward\n",
        "            # and if the games end\n",
        "            prev_state = state\n",
        "            state, reward, game_over = env.act(action)\n",
        "\n",
        "            # Update the counters\n",
        "            if reward > 0:\n",
        "                win = win + reward\n",
        "            if reward < 0:\n",
        "                lose = lose -reward\n",
        "        \n",
        "        # Save as a mp4\n",
        "        env.draw(prefix+str(e))\n",
        "\n",
        "        # Update stats\n",
        "        score = score + win-lose\n",
        "\n",
        "        print(\"Win/lose count {}/{}. Average score ({})\"\n",
        "              .format(win, lose, score/(1+e)))\n",
        "    print('Final score: '+str(score/epochs))"
      ],
      "execution_count": 0,
      "outputs": []
    },
    {
      "metadata": {
        "id": "pz5SNittoUW4",
        "colab_type": "code",
        "outputId": "cac71e7f-6260-4cef-f59d-5168c71bafdf",
        "colab": {
          "base_uri": "https://localhost:8080/",
          "height": 205
        }
      },
      "cell_type": "code",
      "source": [
        "# Initialize the game\n",
        "env = Environment(grid_size=size, max_time=T,temperature=temperature)\n",
        "\n",
        "# Initialize the agent!\n",
        "agent = RandomAgent()\n",
        "\n",
        "test(agent,env,epochs_test,prefix='random')\n",
        "HTML(display_videos('random0.mp4'))"
      ],
      "execution_count": 9,
      "outputs": [
        {
          "output_type": "stream",
          "text": [
            "Win/lose count 0.5/1.0. Average score (-0.5)\n",
            "Final score: -0.5\n"
          ],
          "name": "stdout"
        },
        {
          "output_type": "execute_result",
          "data": {
            "text/html": [
              "<video alt=\"test\" controls>\n",
              "                <source src=\"data:video/mp4;base64,AAAAIGZ0eXBpc29tAAACAGlzb21pc28yYXZjMW1wNDEAAAAIZnJlZQAAE7ptZGF0AAACrQYF//+p3EXpvebZSLeWLNgg2SPu73gyNjQgLSBjb3JlIDE1MiByMjg1NCBlOWE1OTAzIC0gSC4yNjQvTVBFRy00IEFWQyBjb2RlYyAtIENvcHlsZWZ0IDIwMDMtMjAxNyAtIGh0dHA6Ly93d3cudmlkZW9sYW4ub3JnL3gyNjQuaHRtbCAtIG9wdGlvbnM6IGNhYmFjPTEgcmVmPTMgZGVibG9jaz0xOjA6MCBhbmFseXNlPTB4MToweDExMSBtZT1oZXggc3VibWU9NyBwc3k9MSBwc3lfcmQ9MS4wMDowLjAwIG1peGVkX3JlZj0xIG1lX3JhbmdlPTE2IGNocm9tYV9tZT0xIHRyZWxsaXM9MSA4eDhkY3Q9MCBjcW09MCBkZWFkem9uZT0yMSwxMSBmYXN0X3Bza2lwPTEgY2hyb21hX3FwX29mZnNldD00IHRocmVhZHM9MyBsb29rYWhlYWRfdGhyZWFkcz0xIHNsaWNlZF90aHJlYWRzPTAgbnI9MCBkZWNpbWF0ZT0xIGludGVybGFjZWQ9MCBibHVyYXlfY29tcGF0PTAgY29uc3RyYWluZWRfaW50cmE9MCBiZnJhbWVzPTMgYl9weXJhbWlkPTIgYl9hZGFwdD0xIGJfYmlhcz0wIGRpcmVjdD0xIHdlaWdodGI9MSBvcGVuX2dvcD0wIHdlaWdodHA9MiBrZXlpbnQ9MjUwIGtleWludF9taW49MjUgc2NlbmVjdXQ9NDAgaW50cmFfcmVmcmVzaD0wIHJjX2xvb2thaGVhZD00MCByYz1jcmYgbWJ0cmVlPTEgY3JmPTIzLjAgcWNvbXA9MC42MCBxcG1pbj0wIHFwbWF4PTY5IHFwc3RlcD00IGlwX3JhdGlvPTEuNDAgYXE9MToxLjAwAIAAAAL8ZYiEADv//vb8/AptUwn/LZ/+iL/lb+9P2a61uFE7M7QacwPQC/3cd/Xi1bCrc27LcdG8bJkAU3Roif8hrvvgUoqkfgUzWsTzDZhGHbEeGtwo+35P2tkppegAw/ZbhU9OWIQUri3w3yc/IiWMlbLyKaHcmO2JqYItskic9Y2eyXER+BZSjb3Bv1YLE2mEHnF4obpJ0uzf1OUR+mdDsMF3p+RJXHrUUjimT3iCnDDmdD8mC/6fkdzifBg/G5yFr7Hdl6o7glNPTi9X7w4lJEU4BXQwYA2hZeX3y5mYW5zLuW2Z/Kq+VO6pUhYJ7mkveTnw5yd2PrvmUoWYOjDp7H2QMKYGtJQOXNYGVStQtbJtlbgqzGJz+O/GxofoDA1zgc1Zc883unvAdv60Y4mx/wi1B1y5ddY8uyJFVmDsGaEd9Z0D7T/QleKunHsnHFDDCo8iUY3NC4yk8Rcl5uW+qbZpX94LBBc5MZvdyvbQ4YgVh3khGgu1bPVKY9GirZFAvMibm4XkxR/j+HK+kq4sMPyk3t2kKtVIQ1uInzaRGJvPdyyIBNmQnkdGHK8JbQEccH4oH1cUW9PMOotonsnm8b49S71usxBN23UcW4Wcnrh8ysjPcssNkWwVy0+T0EaQpSlDN/BLmt95O+yV5luOAPfF3dImCHgpSCEnsUEerlhP1Gi+wsG5GuDvyDL7GR36y+y+5eArpzS4tmDAHLXmH3LGux9eQ7+VGIswN2zhnrAXJesgWqGP20AA++HfhxCHQM9if1Y1boHnZcgzyy7Ys6Ns+sbHxy7Q7iUAmxRxXKLgLGrHkPcBKvFyD47b29ErgceP6zukC/oyrqBo42pZB4E9aqSJOg2dlgOGLKuZlRxEo8pMKTxIo7+FlgSG+jqaMW5k5MNnHK7wMB53oVqGIKONqBG5goHQ7TO0Fg95CGV4z9sv2gscTqPnSTBfc2kADoSUW2nkoigIFnbEcmno3vLSMRXGBemO/htQJ7CyjCjmU4n8ItuLAaxaGdEAARUAAAANQZokbEO//qmWAACVgAAAAApBnkJ4hf8AALKBAAAACgGeYXRCvwAA7oAAAAAKAZ5jakK/AADugQAAABNBmmhJqEFomUwId//+qZYAAJWBAAAADEGehkURLC//AACygQAAAAoBnqV0Qr8AAO6BAAAACgGep2pCvwAA7oAAAAATQZqsSahBbJlMCHf//qmWAACVgAAAAAxBnspFFSwv/wAAsoEAAAAKAZ7pdEK/AADugAAAAAoBnutqQr8AAO6AAAAAE0Ga8EmoQWyZTAh3//6plgAAlYEAAAAMQZ8ORRUsL/8AALKBAAAACgGfLXRCvwAA7oEAAAAKAZ8vakK/AADugAAAABNBmzRJqEFsmUwId//+qZYAAJWAAAAADEGfUkUVLC//AACygQAAAAoBn3F0Qr8AAO6AAAAACgGfc2pCvwAA7oAAAAAbQZt2SahBbJlMFEw7//6plgAKT8gzQB6S+xnRAAAADQGflWpCvwAQXZ5uJTAAAAAZQZuaSeEKUmUwId/+qZYACpaWVxml/bBTQQAAAA9Bn7hFNEwv/wAMkHogHdEAAAANAZ/XdEK/ABDXT/510AAAAAoBn9lqQr8AAO6BAAAAGkGb3kmoQWiZTAh3//6plgAKp8kvv2QbipkwAAAAD0Gf/EURLC//AAyQikY5YQAAAA0Bnht0Qr8AEN9KJpLBAAAACgGeHWpCvwAA7oAAAAATQZoCSahBbJlMCHf//qmWAACVgAAAAAxBniBFFSwv/wAAsoEAAAAKAZ5fdEK/AADugAAAAAoBnkFqQr8AAO6BAAAAE0GaRkmoQWyZTAh3//6plgAAlYAAAAAMQZ5kRRUsL/8AALKBAAAACgGeg3RCvwAA7oEAAAAKAZ6FakK/AADugQAAABNBmopJqEFsmUwId//+qZYAAJWBAAAADEGeqEUVLC//AACygAAAAAoBnsd0Qr8AAO6AAAAACgGeyWpCvwAA7oEAAAATQZrOSahBbJlMCHf//qmWAACVgAAAABJBnuxFFSwv/wAH3av2PXYhaYAAAAANAZ8LdEK/AAsSZ/9DcQAAAA0Bnw1qQr8ACxWH58NxAAAAE0GbEkmoQWyZTAh3//6plgAAlYEAAAAMQZ8wRRUsL/8AALKAAAAACgGfT3RCvwAA7oAAAAAKAZ9RakK/AADugQAAABNBm1ZJqEFsmUwId//+qZYAAJWAAAAADEGfdEUVLC//AACygAAAAAoBn5N0Qr8AAO6BAAAACgGflWpCvwAA7oAAAAATQZuaSahBbJlMCHf//qmWAACVgQAAAAxBn7hFFSwv/wAAsoEAAAAKAZ/XdEK/AADugAAAAAoBn9lqQr8AAO6BAAAAE0Gb3kmoQWyZTAh3//6plgAAlYAAAAAMQZ/8RRUsL/8AALKBAAAACgGeG3RCvwAA7oEAAAAKAZ4dakK/AADugAAAABNBmgJJqEFsmUwId//+qZYAAJWAAAAADEGeIEUVLC//AACygQAAAAoBnl90Qr8AAO6AAAAACgGeQWpCvwAA7oEAAAATQZpGSahBbJlMCHf//qmWAACVgAAAAAxBnmRFFSwv/wAAsoEAAAAKAZ6DdEK/AADugQAAAAoBnoVqQr8AAO6BAAAAE0GaikmoQWyZTAh3//6plgAAlYEAAAAMQZ6oRRUsL/8AALKAAAAACgGex3RCvwAA7oAAAAAKAZ7JakK/AADugQAAABNBms5JqEFsmUwId//+qZYAAJWAAAAADEGe7EUVLC//AACygAAAAAoBnwt0Qr8AAO6BAAAACgGfDWpCvwAA7oEAAAATQZsSSahBbJlMCHf//qmWAACVgQAAAAxBnzBFFSwv/wAAsoAAAAAKAZ9PdEK/AADugAAAAAoBn1FqQr8AAO6BAAAAGkGbVkmoQWyZTAh3//6plgAG8gsrjNL+2D2gAAAAD0GfdEUVLC//AAguedmk9AAAAAoBn5N0Qr8AAO6BAAAADQGflWpCvwALXYfnwtAAAAAaQZuaSahBbJlMCHf//qmWAAb72l/O6QphKdEAAAAPQZ+4RRUsL/8ACC5902ltAAAACgGf13RCvwAA7oAAAAANAZ/ZakK/AAtdjzcW2QAAABNBm95JqEFsmUwId//+qZYAAJWAAAAADEGf/EUVLC//AACygQAAAAoBnht0Qr8AAO6BAAAACgGeHWpCvwAA7oAAAAATQZoCSahBbJlMCHf//qmWAACVgAAAAAxBniBFFSwv/wAAsoEAAAAKAZ5fdEK/AADugAAAAAoBnkFqQr8AAO6BAAAAE0GaRkmoQWyZTAh3//6plgAAlYAAAAAMQZ5kRRUsL/8AALKBAAAACgGeg3RCvwAA7oEAAAAKAZ6FakK/AADugQAAABNBmopJqEFsmUwId//+qZYAAJWBAAAADEGeqEUVLC//AACygAAAAAoBnsd0Qr8AAO6AAAAACgGeyWpCvwAA7oEAAAATQZrOSahBbJlMCHf//qmWAACVgAAAAAxBnuxFFSwv/wAAsoAAAAAKAZ8LdEK/AADugQAAAAoBnw1qQr8AAO6BAAAAE0GbEkmoQWyZTAh3//6plgAAlYEAAAAMQZ8wRRUsL/8AALKAAAAACgGfT3RCvwAA7oAAAAAKAZ9RakK/AADugQAAABNBm1ZJqEFsmUwId//+qZYAAJWAAAAADEGfdEUVLC//AACygAAAAAoBn5N0Qr8AAO6BAAAACgGflWpCvwAA7oAAAAATQZuaSahBbJlMCHf//qmWAACVgQAAAAxBn7hFFSwv/wAAsoEAAAAKAZ/XdEK/AADugAAAAAoBn9lqQr8AAO6BAAAAGkGb3kmoQWyZTAh3//6plgAG8qQZn3icf2PwAAAAD0Gf/EUVLC//AAgufdNpbQAAAAoBnht0Qr8AAO6BAAAADQGeHWpCvwALXY83FtgAAAATQZoCSahBbJlMCHf//qmWAACVgAAAAAxBniBFFSwv/wAAsoEAAAAKAZ5fdEK/AADugAAAAAoBnkFqQr8AAO6BAAAAE0GaRkmoQWyZTAh3//6plgAAlYAAAAAMQZ5kRRUsL/8AALKBAAAACgGeg3RCvwAA7oEAAAAKAZ6FakK/AADugQAAABpBmopJqEFsmUwId//+qZYACt/IMz7xOP67cQAAAA9BnqhFFSwv/wAM4q1KzhgAAAAKAZ7HdEK/AADugAAAAA0BnslqQr8AEVlcCYXBAAAAE0GazkmoQWyZTAh3//6plgAAlYAAAAAMQZ7sRRUsL/8AALKAAAAACgGfC3RCvwAA7oEAAAAKAZ8NakK/AADugQAAABNBmxJJqEFsmUwId//+qZYAAJWBAAAADEGfMEUVLC//AACygAAAAAoBn090Qr8AAO6AAAAACgGfUWpCvwAA7oEAAAATQZtWSahBbJlMCHf//qmWAACVgAAAAAxBn3RFFSwv/wAAsoAAAAAKAZ+TdEK/AADugQAAAAoBn5VqQr8AAO6AAAAAGkGbmkmoQWyZTAh3//6plgAK776vrsQbiphxAAAAD0GfuEUVLC//AAzgikY4YQAAAA0Bn9d0Qr8AEVdlLehgAAAACgGf2WpCvwAA7oEAAAATQZveSahBbJlMCHf//qmWAACVgAAAAAxBn/xFFSwv/wAAsoEAAAAKAZ4bdEK/AADugQAAAAoBnh1qQr8AAO6AAAAAE0GaAkmoQWyZTAh3//6plgAAlYAAAAAMQZ4gRRUsL/8AALKBAAAACgGeX3RCvwAA7oAAAAAKAZ5BakK/AADugQAAABpBmkZJqEFsmUwId//+qZYABxx0/KaMfrTXwAAAAA9BnmRFFSwv/wAIbnnZpM0AAAAKAZ6DdEK/AADugQAAAA0BnoVqQr8AC6WH58JRAAAAE0GaikmoQWyZTAh3//6plgAAlYEAAAAMQZ6oRRUsL/8AALKAAAAACgGex3RCvwAA7oAAAAAKAZ7JakK/AADugQAAABNBms5JqEFsmUwId//+qZYAAJWAAAAADEGe7EUVLC//AACygAAAAAoBnwt0Qr8AAO6BAAAACgGfDWpCvwAA7oEAAAATQZsSSahBbJlMCHf//qmWAACVgQAAAAxBnzBFFSwv/wAAsoAAAAAKAZ9PdEK/AADugAAAAAoBn1FqQr8AAO6BAAAAE0GbVkmoQWyZTAh3//6plgAAlYAAAAAMQZ90RRUsL/8AALKAAAAACgGfk3RCvwAA7oEAAAAKAZ+VakK/AADugAAAABNBm5pJqEFsmUwId//+qZYAAJWBAAAADEGfuEUVLC//AACygQAAAAoBn9d0Qr8AAO6AAAAACgGf2WpCvwAA7oEAAAAaQZveSahBbJlMCHf//qmWAAsnyDNAHpL7F9AAAAAPQZ/8RRUsL/8ADTKtSs3ZAAAACgGeG3RCvwAA7oEAAAANAZ4dakK/ABHdnm4jsAAAABlBmgJJqEFsmUwIb//+p4QAFj91OP8Pq26bAAAAD0GeIEUVLC//AA0weiAccQAAAA0Bnl90Qr8AEddP/nRwAAAACgGeQWpCvwAA7oEAAAAZQZpGSahBbJlMCGf//p4QAFR902MuTZVyTAAAAA9BnmRFFSwv/wAM4qaGsxUAAAAKAZ6DdEK/AADugQAAAA0BnoVqQr8AEVk3DdTBAAAAGkGaiUuoQhBbJEYIKAfyAf2HgCFf/jhAABFxAAAAJUGep0UVLCv/Aq9j7UHE3arDSSblqoYHLLW7zSokEi5nVMYz9mAAAAAjAZ7IakK/Aq9j7UHE3arDSSblqoYHLLW7zSokEi5nVMYz9mAAAAyAbW9vdgAAAGxtdmhkAAAAAAAAAAAAAAAAAAAD6AAAH5AAAQAAAQAAAAAAAAAAAAAAAAEAAAAAAAAAAAAAAAAAAAABAAAAAAAAAAAAAAAAAABAAAAAAAAAAAAAAAAAAAAAAAAAAAAAAAAAAAAAAAAAAgAAC6p0cmFrAAAAXHRraGQAAAADAAAAAAAAAAAAAAABAAAAAAAAH5AAAAAAAAAAAAAAAAAAAAAAAAEAAAAAAAAAAAAAAAAAAAABAAAAAAAAAAAAAAAAAABAAAAAARAAAAEQAAAAAAAkZWR0cwAAABxlbHN0AAAAAAAAAAEAAB+QAAAEAAABAAAAAAsibWRpYQAAACBtZGhkAAAAAAAAAAAAAAAAAAAyAAABlABVxAAAAAAALWhkbHIAAAAAAAAAAHZpZGUAAAAAAAAAAAAAAABWaWRlb0hhbmRsZXIAAAAKzW1pbmYAAAAUdm1oZAAAAAEAAAAAAAAAAAAAACRkaW5mAAAAHGRyZWYAAAAAAAAAAQAAAAx1cmwgAAAAAQAACo1zdGJsAAAAlXN0c2QAAAAAAAAAAQAAAIVhdmMxAAAAAAAAAAEAAAAAAAAAAAAAAAAAAAAAARABEABIAAAASAAAAAAAAAABAAAAAAAAAAAAAAAAAAAAAAAAAAAAAAAAAAAAAAAAAAAAGP//AAAAL2F2Y0MB9AAN/+EAF2f0AA2RmygiEdCAAAADAIAAABkHihTLAQAFaOvjxEgAAAAYc3R0cwAAAAAAAAABAAAAygAAAgAAAAAUc3RzcwAAAAAAAAABAAAAAQAABlhjdHRzAAAAAAAAAMkAAAABAAAEAAAAAAEAAAoAAAAAAQAABAAAAAABAAAAAAAAAAEAAAIAAAAAAQAACgAAAAABAAAEAAAAAAEAAAAAAAAAAQAAAgAAAAABAAAKAAAAAAEAAAQAAAAAAQAAAAAAAAABAAACAAAAAAEAAAoAAAAAAQAABAAAAAABAAAAAAAAAAEAAAIAAAAAAQAACgAAAAABAAAEAAAAAAEAAAAAAAAAAQAAAgAAAAABAAAGAAAAAAEAAAIAAAAAAQAACgAAAAABAAAEAAAAAAEAAAAAAAAAAQAAAgAAAAABAAAKAAAAAAEAAAQAAAAAAQAAAAAAAAABAAACAAAAAAEAAAoAAAAAAQAABAAAAAABAAAAAAAAAAEAAAIAAAAAAQAACgAAAAABAAAEAAAAAAEAAAAAAAAAAQAAAgAAAAABAAAKAAAAAAEAAAQAAAAAAQAAAAAAAAABAAACAAAAAAEAAAoAAAAAAQAABAAAAAABAAAAAAAAAAEAAAIAAAAAAQAACgAAAAABAAAEAAAAAAEAAAAAAAAAAQAAAgAAAAABAAAKAAAAAAEAAAQAAAAAAQAAAAAAAAABAAACAAAAAAEAAAoAAAAAAQAABAAAAAABAAAAAAAAAAEAAAIAAAAAAQAACgAAAAABAAAEAAAAAAEAAAAAAAAAAQAAAgAAAAABAAAKAAAAAAEAAAQAAAAAAQAAAAAAAAABAAACAAAAAAEAAAoAAAAAAQAABAAAAAABAAAAAAAAAAEAAAIAAAAAAQAACgAAAAABAAAEAAAAAAEAAAAAAAAAAQAAAgAAAAABAAAKAAAAAAEAAAQAAAAAAQAAAAAAAAABAAACAAAAAAEAAAoAAAAAAQAABAAAAAABAAAAAAAAAAEAAAIAAAAAAQAACgAAAAABAAAEAAAAAAEAAAAAAAAAAQAAAgAAAAABAAAKAAAAAAEAAAQAAAAAAQAAAAAAAAABAAACAAAAAAEAAAoAAAAAAQAABAAAAAABAAAAAAAAAAEAAAIAAAAAAQAACgAAAAABAAAEAAAAAAEAAAAAAAAAAQAAAgAAAAABAAAKAAAAAAEAAAQAAAAAAQAAAAAAAAABAAACAAAAAAEAAAoAAAAAAQAABAAAAAABAAAAAAAAAAEAAAIAAAAAAQAACgAAAAABAAAEAAAAAAEAAAAAAAAAAQAAAgAAAAABAAAKAAAAAAEAAAQAAAAAAQAAAAAAAAABAAACAAAAAAEAAAoAAAAAAQAABAAAAAABAAAAAAAAAAEAAAIAAAAAAQAACgAAAAABAAAEAAAAAAEAAAAAAAAAAQAAAgAAAAABAAAKAAAAAAEAAAQAAAAAAQAAAAAAAAABAAACAAAAAAEAAAoAAAAAAQAABAAAAAABAAAAAAAAAAEAAAIAAAAAAQAACgAAAAABAAAEAAAAAAEAAAAAAAAAAQAAAgAAAAABAAAKAAAAAAEAAAQAAAAAAQAAAAAAAAABAAACAAAAAAEAAAoAAAAAAQAABAAAAAABAAAAAAAAAAEAAAIAAAAAAQAACgAAAAABAAAEAAAAAAEAAAAAAAAAAQAAAgAAAAABAAAKAAAAAAEAAAQAAAAAAQAAAAAAAAABAAACAAAAAAEAAAoAAAAAAQAABAAAAAABAAAAAAAAAAEAAAIAAAAAAQAACgAAAAABAAAEAAAAAAEAAAAAAAAAAQAAAgAAAAABAAAKAAAAAAEAAAQAAAAAAQAAAAAAAAABAAACAAAAAAEAAAoAAAAAAQAABAAAAAABAAAAAAAAAAEAAAIAAAAAAQAACgAAAAABAAAEAAAAAAEAAAAAAAAAAQAAAgAAAAABAAAKAAAAAAEAAAQAAAAAAQAAAAAAAAABAAACAAAAAAEAAAoAAAAAAQAABAAAAAABAAAAAAAAAAEAAAIAAAAAAQAACgAAAAABAAAEAAAAAAEAAAAAAAAAAQAAAgAAAAABAAAKAAAAAAEAAAQAAAAAAQAAAAAAAAABAAACAAAAAAEAAAoAAAAAAQAABAAAAAABAAAAAAAAAAEAAAIAAAAAAQAACgAAAAABAAAEAAAAAAEAAAAAAAAAAQAAAgAAAAABAAAKAAAAAAEAAAQAAAAAAQAAAAAAAAABAAACAAAAAAEAAAgAAAAAAgAAAgAAAAAcc3RzYwAAAAAAAAABAAAAAQAAAMoAAAABAAADPHN0c3oAAAAAAAAAAAAAAMoAAAWxAAAAEQAAAA4AAAAOAAAADgAAABcAAAAQAAAADgAAAA4AAAAXAAAAEAAAAA4AAAAOAAAAFwAAABAAAAAOAAAADgAAABcAAAAQAAAADgAAAA4AAAAfAAAAEQAAAB0AAAATAAAAEQAAAA4AAAAeAAAAEwAAABEAAAAOAAAAFwAAABAAAAAOAAAADgAAABcAAAAQAAAADgAAAA4AAAAXAAAAEAAAAA4AAAAOAAAAFwAAABYAAAARAAAAEQAAABcAAAAQAAAADgAAAA4AAAAXAAAAEAAAAA4AAAAOAAAAFwAAABAAAAAOAAAADgAAABcAAAAQAAAADgAAAA4AAAAXAAAAEAAAAA4AAAAOAAAAFwAAABAAAAAOAAAADgAAABcAAAAQAAAADgAAAA4AAAAXAAAAEAAAAA4AAAAOAAAAFwAAABAAAAAOAAAADgAAAB4AAAATAAAADgAAABEAAAAeAAAAEwAAAA4AAAARAAAAFwAAABAAAAAOAAAADgAAABcAAAAQAAAADgAAAA4AAAAXAAAAEAAAAA4AAAAOAAAAFwAAABAAAAAOAAAADgAAABcAAAAQAAAADgAAAA4AAAAXAAAAEAAAAA4AAAAOAAAAFwAAABAAAAAOAAAADgAAABcAAAAQAAAADgAAAA4AAAAeAAAAEwAAAA4AAAARAAAAFwAAABAAAAAOAAAADgAAABcAAAAQAAAADgAAAA4AAAAeAAAAEwAAAA4AAAARAAAAFwAAABAAAAAOAAAADgAAABcAAAAQAAAADgAAAA4AAAAXAAAAEAAAAA4AAAAOAAAAHgAAABMAAAARAAAADgAAABcAAAAQAAAADgAAAA4AAAAXAAAAEAAAAA4AAAAOAAAAHgAAABMAAAAOAAAAEQAAABcAAAAQAAAADgAAAA4AAAAXAAAAEAAAAA4AAAAOAAAAFwAAABAAAAAOAAAADgAAABcAAAAQAAAADgAAAA4AAAAXAAAAEAAAAA4AAAAOAAAAHgAAABMAAAAOAAAAEQAAAB0AAAATAAAAEQAAAA4AAAAdAAAAEwAAAA4AAAARAAAAHgAAACkAAAAnAAAAFHN0Y28AAAAAAAAAAQAAADAAAABidWR0YQAAAFptZXRhAAAAAAAAACFoZGxyAAAAAAAAAABtZGlyYXBwbAAAAAAAAAAAAAAAAC1pbHN0AAAAJal0b28AAAAdZGF0YQAAAAEAAAAATGF2ZjU3LjgzLjEwMA==\" type=\"video/mp4\" />\n",
              "             </video>"
            ],
            "text/plain": [
              "<IPython.core.display.HTML object>"
            ]
          },
          "metadata": {
            "tags": []
          },
          "execution_count": 9
        }
      ]
    },
    {
      "metadata": {
        "id": "VQDc0aoYoUW8",
        "colab_type": "text"
      },
      "cell_type": "markdown",
      "source": [
        "***\n",
        "## DQN"
      ]
    },
    {
      "metadata": {
        "id": "jAC6rC-eoUW9",
        "colab_type": "text"
      },
      "cell_type": "markdown",
      "source": [
        "Let us assume here that $T=\\infty$.\n",
        "\n",
        "***\n",
        "__Question 5__ Let $\\pi$ be a policy, show that:\n",
        "\n",
        "\\begin{equation*}\n",
        "Q^{\\pi}(s,a)=E_{(s',a')\\sim p(.|s,a)}[r(s,a)+\\gamma Q^{\\pi}(s',a')]\n",
        "\\end{equation*}\n",
        "\n",
        "Then, show that for the optimal policy $\\pi^*$ (we assume its existence), the following holds: \n",
        "\n",
        "\\begin{equation*}\n",
        "Q^{*}(s,a)=E_{s'\\sim \\pi^*(.|s,a)}[r(s,a)+\\gamma\\max_{a'}Q^{*}(s',a')].\n",
        "\\end{equation*}\n",
        "Finally, deduce that a plausible objective is:\n",
        "\n",
        "\\begin{equation*}\n",
        "\\mathcal{L}(\\theta)=E_{s' \\sim \\pi^*(.|s,a)}\\Vert r+\\gamma\\max\\max_{a'}Q(s',a',\\theta)-Q(s,a,\\theta)\\Vert^{2}.\n",
        "\\end{equation*}\n",
        "\n",
        "\n"
      ]
    },
    {
      "metadata": {
        "id": "YBIqDHO7oUW-",
        "colab_type": "text"
      },
      "cell_type": "markdown",
      "source": [
        "According to the definition:\n",
        "\n",
        "\\begin{equation*}Q^\\pi(s,a)=E_{p^{\\pi}}[\\sum_{t=0}^{+\\infty}\\gamma^{t}r(s_{t},a_{t})|s_{0}=s,a_{0}=a]\n",
        "\\end{equation*}\n",
        "\n",
        "So:\n",
        "\n",
        "\n",
        "\\begin{align}Q^\\pi(s,a)&=E_{p^{\\pi}}[r(s_{0},a_{0}) + \\sum_{t=1}^{+\\infty}\\gamma^{t}r(s_{t},a_{t})|s_{0} =s,a_{0}=a] \n",
        "\\\\\n",
        "&=E_{p^{\\pi}}[r(s_{0},a_{0}) + \\gamma\\sum_{t=1}^{+\\infty}\\gamma^{t-1}r(s_{t},a_{t})|s_{0} =s,a_{0}=a]\n",
        "\\\\\n",
        "&=E_{p^{\\pi}}[r(s_{0},a_{0}) + \\gamma\\sum_{t=0}^{+\\infty}\\gamma^{t}r(s_{t+1},a_{t+1})|s_{0} =s,a_{0}=a]\n",
        "\\\\\n",
        "&=E_{p^{\\pi}}[r(s_{0},a_{0})|s_{0} =s,a_{0}=a] + E_{p^{\\pi}}[\\gamma\\sum_{t=0}^{+\\infty}\\gamma^{t}r(s_{t+1},a_{t+1})|s_{0} =s,a_{0}=a]\n",
        "\\\\\n",
        "&=r(s,a) + \\gamma E_{p^{\\pi}}[\\sum_{t=0}^{+\\infty}\\gamma^{t}r(s_{t+1},a_{t+1})|s_{0} =s,a_{0}=a]\n",
        "\\\\\n",
        "&=r(s,a) + \\gamma E_{p^{\\pi}(.|s_{0} =s,a_{0}=a)}[\\sum_{t=0}^{+\\infty}\\gamma^{t}r(s_{t+1},a_{t+1})]\n",
        "\\\\\n",
        "&=r(s,a) + \\gamma \\sum_{s',a'}p^{\\pi}(s_{1}=s',a_{1}=a'|s_{0} =s,a_{0}=a)E_{p^{\\pi}(.|s_{0} =s,a_{0}=a)}[\\sum_{t=0}^{+\\infty}\\gamma^{t}r(s_{t+1},a_{t+1})|s_{1} =s',a_{1}=a']\n",
        "\\\\\n",
        "&=r(s,a) + \\gamma \\sum_{s',a'}p^{\\pi}(s_{1}=s',a_{1}=a'|s_{0} =s,a_{0}=a)E_{p^{\\pi}}[\\sum_{t=0}^{+\\infty}\\gamma^{t}r(s_{t},a_{t})|s_{0} =s',a_{0}=a']\n",
        "\\\\\n",
        "&=r(s,a) + \\gamma \\sum_{s',a'}p^{\\pi}(s_{1}=s',a_{1}=a'|s_{0} =s,a_{0}=a)Q^{\\pi}(s',a')\n",
        "\\\\\n",
        "&=r(s,a) + \\gamma E_{(s′,a′)∼p(.|s,a)}[Q^{\\pi}(s',a')]\n",
        "\\\\\n",
        "&=E_{(s′,a′)∼p(.|s,a)}[r(s,a) + \\gamma Q^{\\pi}(s',a')]\n",
        "\\end{align}\n",
        "\n",
        "\n",
        "Thus, the optimal Q function is:\n",
        "\\begin{align}\n",
        "Q^*(s,a)&=\\max_{\\pi}Q^\\pi(s,a)\n",
        "\\\\\n",
        "&=\\max_{\\pi}[r(s,a) + \\gamma \\sum_{s',a'}p^{\\pi}(s_{1}=s',a_{1}=a'|s_{0} =s,a_{0}=a)Q^{\\pi}(s',a')]\n",
        "\\\\\n",
        "&=r(s,a) + \\gamma \\max_{\\pi}[\\sum_{s',a'}p^{\\pi}(s_{1}=s',a_{1}=a'|s_{0} =s,a_{0}=a)Q^{\\pi}(s',a')]\n",
        "\\\\\n",
        "&=r(s,a) + \\gamma \\max_{\\pi}[\\sum_{s',a'}\\pi(a'|s')p(s'|s,a)Q^{\\pi}(s',a')]\n",
        "\\\\\n",
        "&=r(s,a) + \\gamma \\max_{\\pi}[\\sum_{a'}\\pi(a'|s')\\sum_{s'}p(s'|s,a)Q^{\\pi}(s',a')]\n",
        "\\\\\n",
        "&=r(s,a) + \\gamma \\max_{\\pi}[\\sum_{a'}\\pi(a'|s')E_{s'∼p(.|s,a)}[Q^{\\pi}(s',a')]]\n",
        "\\end{align}\n",
        "\n",
        "$\\sum_{a'}\\pi(a'|s)E_{s'∼p(.|s,a)}[Q^{*}(s',a')]$ is barycenter.  So the maximum is  $\\max_{a'}[E_{s'∼p(.|s,a)}[Q^{*}(s',a')]]$\n",
        "\n",
        "So: \n",
        "\n",
        "\\begin{equation*}\n",
        "Q^*(s,a)=r(s,a) + \\gamma \\max_{a'}[E_{s'∼p(.|s,a)}[Q^{*}(s',a')]]\n",
        "\\end{equation*}\n",
        "\n"
      ]
    },
    {
      "metadata": {
        "id": "9Odz8xLRoUW_",
        "colab_type": "text"
      },
      "cell_type": "markdown",
      "source": [
        "***\n",
        "The DQN-learning algorithm relies on these derivations to train the parameters $\\theta$ of a Deep Neural Network:\n",
        "\n",
        "1. At the state $s_t$, select the action $a_t$ with best reward using $Q_t$ and store the results;\n",
        "\n",
        "2. Obtain the new state $s_{t+1}$ from the environment $p$;\n",
        "\n",
        "3. Store $(s_t,a_t,s_{t+1})$;\n",
        "\n",
        "4. Obtain $Q_{t+1}$ by minimizing  $\\mathcal{L}$ from a recovered batch from the previously stored results.\n",
        "\n",
        "***\n",
        "__Question 6__ Implement the class ```Memory``` that stores moves (in a replay buffer) via ```remember``` and provides a ```random_access``` to these. Specify a maximum memory size to avoid side effects. You can for example use a ```list()``` and set by default ```max_memory=100```."
      ]
    },
    {
      "metadata": {
        "id": "iLtxyrgQoUXA",
        "colab_type": "code",
        "colab": {}
      },
      "cell_type": "code",
      "source": [
        "class Memory(object):\n",
        "    def __init__(self, max_memory=100):\n",
        "        self.max_memory = max_memory\n",
        "        self.memory = list()\n",
        "\n",
        "    def remember(self, m):\n",
        "        if len(self.memory) < self.max_memory:#if not full\n",
        "          self.memory.append(m)\n",
        "        else:\n",
        "          self.memory[np.random.randint(0, len(self.memory), size=1)[0]] = m#randomly replace a memory\n",
        "\n",
        "    def random_access(self):\n",
        "        return self.memory[np.random.randint(0, len(self.memory), size=1)[0]]"
      ],
      "execution_count": 0,
      "outputs": []
    },
    {
      "metadata": {
        "id": "bVh9IYqgoUXE",
        "colab_type": "text"
      },
      "cell_type": "markdown",
      "source": [
        "***\n",
        "The pipeline we will use for training is given below:"
      ]
    },
    {
      "metadata": {
        "id": "ewzKODRKoUXE",
        "colab_type": "code",
        "colab": {}
      },
      "cell_type": "code",
      "source": [
        "def train(agent,env,epoch,prefix=''):\n",
        "    # Number of won games\n",
        "    score = 0\n",
        "    loss = 0\n",
        "\n",
        "    for e in range(epoch):\n",
        "        # At each epoch, we restart to a fresh game and get the initial state\n",
        "        state = env.reset()\n",
        "        # This assumes that the games will terminate\n",
        "        game_over = False\n",
        "\n",
        "        win = 0\n",
        "        lose = 0\n",
        "\n",
        "        while not game_over:\n",
        "            # The agent performs an action\n",
        "            action = agent.act(state)\n",
        "\n",
        "            # Apply an action to the environment, get the next state, the reward\n",
        "            # and if the games end\n",
        "            prev_state = state\n",
        "            state, reward, game_over = env.act(action)\n",
        "\n",
        "            # Update the counters\n",
        "            if reward > 0:\n",
        "                win = win + reward\n",
        "            if reward < 0:\n",
        "                lose = lose -reward\n",
        "\n",
        "            # Apply the reinforcement strategy\n",
        "            loss = agent.reinforce(prev_state, state,  action, reward, game_over)\n",
        "\n",
        "        # Save as a mp4\n",
        "        if e % 10 == 0:\n",
        "          env.draw(prefix+str(e))\n",
        "\n",
        "        # Update stats\n",
        "        score += win-lose\n",
        "\n",
        "        print(\"Epoch {:03d}/{:03d} | Loss {:.4f} | Win/lose count {}/{} ({})\"\n",
        "              .format(e, epoch, loss, win, lose, win-lose))\n",
        "        agent.save(name_weights=prefix+'model.h5',name_model=prefix+'model.json')\n",
        "    env.draw(prefix)"
      ],
      "execution_count": 0,
      "outputs": []
    },
    {
      "metadata": {
        "id": "nZkwEVC3oUXH",
        "colab_type": "text"
      },
      "cell_type": "markdown",
      "source": [
        "***\n",
        "__Question 7__ Implement the DQN training algorithm using a cascade of fully connected layers. You can use different learning rate, batch size or memory size parameters. In particular, the loss might oscillate while the player will start to win the games. You have to find a good criterium."
      ]
    },
    {
      "metadata": {
        "id": "vTDjN6uzoUXI",
        "colab_type": "code",
        "colab": {}
      },
      "cell_type": "code",
      "source": [
        "from keras.layers.core import Reshape\n",
        "\n",
        "class DQN(Agent):\n",
        "    def __init__(self, grid_size,  epsilon = 0.1, memory_size=100, batch_size = 16,n_state=2):\n",
        "        super(DQN, self).__init__(epsilon = epsilon)\n",
        "\n",
        "        # Discount for Q learning\n",
        "        self.discount = 0.99\n",
        "        \n",
        "        self.grid_size = grid_size\n",
        "        \n",
        "        # number of state\n",
        "        self.n_state = n_state\n",
        "\n",
        "        # Memory\n",
        "        self.memory = Memory(memory_size)\n",
        "        \n",
        "        # Batch size when learning\n",
        "        self.batch_size = batch_size\n",
        "\n",
        "    def learned_act(self, s):\n",
        "        return np.argmax(self.model.predict((np.expand_dims(s,axis=0))))\n",
        "\n",
        "    def reinforce(self, s_, n_s_, a_, r_, game_over_):\n",
        "        # Two steps: first memorize the states, second learn from the pool\n",
        "\n",
        "        self.memory.remember([s_, n_s_, a_, r_, game_over_])\n",
        "        \n",
        "        input_states = np.zeros((self.batch_size, 5,5,self.n_state))\n",
        "        target_q = np.zeros((self.batch_size, 4))\n",
        "        \n",
        "        for i in range(self.batch_size):\n",
        "            ######## FILL IN\n",
        "            s_, n_s_, a_, r_, game_over_ = self.memory.random_access()\n",
        "            target_q[i] = self.model.predict(np.expand_dims(s_,axis=0))#for other action than a_, the target is the previous Q function\n",
        "            input_states[i] = s_\n",
        "            if game_over_:\n",
        "                target_q[i][a_] = r_\n",
        "            else:\n",
        "                target_q[i][a_] = r_ + self.discount*np.max(self.model.predict(np.expand_dims(n_s_,axis=0)))\n",
        "        ######## FILL IN\n",
        "        # HINT: Clip the target to avoid exploiding gradients.. -- clipping is a bit tighter\n",
        "        target_q = np.clip(target_q, -3, 3)\n",
        "\n",
        "        l = self.model.train_on_batch(input_states, target_q)\n",
        "\n",
        "\n",
        "        return l\n",
        "\n",
        "    def save(self,name_weights='model.h5',name_model='model.json'):\n",
        "        self.model.save_weights(name_weights, overwrite=True)\n",
        "        with open(name_model, \"w\") as outfile:\n",
        "            json.dump(self.model.to_json(), outfile)\n",
        "            \n",
        "    def load(self,name_weights='model.h5',name_model='model.json'):\n",
        "        with open(name_model, \"r\") as jfile:\n",
        "            model = model_from_json(json.load(jfile))\n",
        "        model.load_weights(name_weights)\n",
        "        model.compile(\"sgd\", \"mse\")\n",
        "        self.model = model\n",
        "\n",
        "            \n",
        "class DQN_FC(DQN):\n",
        "    def __init__(self, *args, lr=0.1,**kwargs):\n",
        "        super(DQN_FC, self).__init__( *args,**kwargs)\n",
        "        \n",
        "        # NN Model\n",
        "        model = Sequential()\n",
        "        model.add(Reshape((5*5*self.n_state,), input_shape=(5,5,self.n_state)))#reshape because the input is a tensor\n",
        "        model.add(Dense(64, activation='relu'))\n",
        "        model.add(Dense(128, activation='relu'))\n",
        "        model.add(Dense(4))\n",
        "        \n",
        "        model.compile(sgd(lr=lr, decay=1e-4, momentum=0.1), \"mse\")\n",
        "        self.model = model\n",
        "        "
      ],
      "execution_count": 0,
      "outputs": []
    },
    {
      "metadata": {
        "id": "FilBWwgzoUXM",
        "colab_type": "code",
        "colab": {
          "base_uri": "https://localhost:8080/",
          "height": 1973
        },
        "outputId": "c30529dc-60aa-48bc-96b7-9f8d023a30ab"
      },
      "cell_type": "code",
      "source": [
        "env = Environment(grid_size=size, max_time=T, temperature=0.3)\n",
        "agent = DQN_FC(size, lr=.1, epsilon = 0.1, memory_size=2000, batch_size = 32)\n",
        "train(agent, env, epochs_train, prefix='fc_train')\n",
        "HTML(display_videos('fc_train.mp4'))"
      ],
      "execution_count": 60,
      "outputs": [
        {
          "output_type": "stream",
          "text": [
            "Epoch 000/100 | Loss 0.0034 | Win/lose count 2.5/6.0 (-3.5)\n",
            "Epoch 001/100 | Loss 0.0092 | Win/lose count 3.0/3.0 (0.0)\n",
            "Epoch 002/100 | Loss 0.0019 | Win/lose count 2.5/2.0 (0.5)\n",
            "Epoch 003/100 | Loss 0.0142 | Win/lose count 6.0/3.0 (3.0)\n",
            "Epoch 004/100 | Loss 0.0078 | Win/lose count 1.0/2.0 (-1.0)\n",
            "Epoch 005/100 | Loss 0.0018 | Win/lose count 1.5/3.0 (-1.5)\n",
            "Epoch 006/100 | Loss 0.0035 | Win/lose count 1.5/0 (1.5)\n",
            "Epoch 007/100 | Loss 0.0035 | Win/lose count 1.5/3.0 (-1.5)\n",
            "Epoch 008/100 | Loss 0.0022 | Win/lose count 3.5/5.0 (-1.5)\n",
            "Epoch 009/100 | Loss 0.0022 | Win/lose count 4.0/3.0 (1.0)\n",
            "Epoch 010/100 | Loss 0.0039 | Win/lose count 2.0/0 (2.0)\n",
            "Epoch 011/100 | Loss 0.0060 | Win/lose count 2.5/1.0 (1.5)\n",
            "Epoch 012/100 | Loss 0.0012 | Win/lose count 3.5/6.0 (-2.5)\n",
            "Epoch 013/100 | Loss 0.0022 | Win/lose count 2.5/2.0 (0.5)\n",
            "Epoch 014/100 | Loss 0.0020 | Win/lose count 1.0/3.0 (-2.0)\n",
            "Epoch 015/100 | Loss 0.0023 | Win/lose count 1.5/0 (1.5)\n",
            "Epoch 016/100 | Loss 0.0043 | Win/lose count 2.5/2.0 (0.5)\n",
            "Epoch 017/100 | Loss 0.0047 | Win/lose count 2.0/1.0 (1.0)\n",
            "Epoch 018/100 | Loss 0.0015 | Win/lose count 2.0/1.0 (1.0)\n",
            "Epoch 019/100 | Loss 0.0054 | Win/lose count 1.0/4.0 (-3.0)\n",
            "Epoch 020/100 | Loss 0.0022 | Win/lose count 3.5/5.0 (-1.5)\n",
            "Epoch 021/100 | Loss 0.0054 | Win/lose count 4.0/3.0 (1.0)\n",
            "Epoch 022/100 | Loss 0.0033 | Win/lose count 3.5/0 (3.5)\n",
            "Epoch 023/100 | Loss 0.0038 | Win/lose count 3.0/1.0 (2.0)\n",
            "Epoch 024/100 | Loss 0.0015 | Win/lose count 6.0/3.0 (3.0)\n",
            "Epoch 025/100 | Loss 0.0021 | Win/lose count 1.0/2.0 (-1.0)\n",
            "Epoch 026/100 | Loss 0.0026 | Win/lose count 5.5/3.0 (2.5)\n",
            "Epoch 027/100 | Loss 0.0041 | Win/lose count 1.0/0 (1.0)\n",
            "Epoch 028/100 | Loss 0.0041 | Win/lose count 1.0/6.0 (-5.0)\n",
            "Epoch 029/100 | Loss 0.0017 | Win/lose count 5.5/2.0 (3.5)\n",
            "Epoch 030/100 | Loss 0.0066 | Win/lose count 3.5/2.0 (1.5)\n",
            "Epoch 031/100 | Loss 0.0147 | Win/lose count 11.0/2.0 (9.0)\n",
            "Epoch 032/100 | Loss 0.0028 | Win/lose count 4.5/2.0 (2.5)\n",
            "Epoch 033/100 | Loss 0.0020 | Win/lose count 3.5/1.0 (2.5)\n",
            "Epoch 034/100 | Loss 0.0511 | Win/lose count 5.0/1.0 (4.0)\n",
            "Epoch 035/100 | Loss 0.0826 | Win/lose count 4.0/2.0 (2.0)\n",
            "Epoch 036/100 | Loss 0.0619 | Win/lose count 5.0/2.0 (3.0)\n",
            "Epoch 037/100 | Loss 0.0071 | Win/lose count 2.5/1.0 (1.5)\n",
            "Epoch 038/100 | Loss 0.0024 | Win/lose count 3.0/4.0 (-1.0)\n",
            "Epoch 039/100 | Loss 0.0025 | Win/lose count 6.0/4.0 (2.0)\n",
            "Epoch 040/100 | Loss 0.0024 | Win/lose count 4.5/2.0 (2.5)\n",
            "Epoch 041/100 | Loss 0.0046 | Win/lose count 3.0/2.0 (1.0)\n",
            "Epoch 042/100 | Loss 0.0057 | Win/lose count 9.5/5.0 (4.5)\n",
            "Epoch 043/100 | Loss 0.0044 | Win/lose count 2.5/3.0 (-0.5)\n",
            "Epoch 044/100 | Loss 0.0031 | Win/lose count 6.5/5.0 (1.5)\n",
            "Epoch 045/100 | Loss 0.0396 | Win/lose count 2.0/2.0 (0.0)\n",
            "Epoch 046/100 | Loss 0.0030 | Win/lose count 3.0/1.0 (2.0)\n",
            "Epoch 047/100 | Loss 0.0025 | Win/lose count 3.0/1.0 (2.0)\n",
            "Epoch 048/100 | Loss 0.0027 | Win/lose count 3.5/2.0 (1.5)\n",
            "Epoch 049/100 | Loss 0.0051 | Win/lose count 9.0/7.0 (2.0)\n",
            "Epoch 050/100 | Loss 0.0048 | Win/lose count 8.5/3.0 (5.5)\n",
            "Epoch 051/100 | Loss 0.0037 | Win/lose count 2.5/2.0 (0.5)\n",
            "Epoch 052/100 | Loss 0.0010 | Win/lose count 6.0/6.0 (0.0)\n",
            "Epoch 053/100 | Loss 0.0041 | Win/lose count 6.5/6.0 (0.5)\n",
            "Epoch 054/100 | Loss 0.0115 | Win/lose count 5.0/4.0 (1.0)\n",
            "Epoch 055/100 | Loss 0.0237 | Win/lose count 2.5/1.0 (1.5)\n",
            "Epoch 056/100 | Loss 0.0042 | Win/lose count 5.5/5.0 (0.5)\n",
            "Epoch 057/100 | Loss 0.0054 | Win/lose count 3.0/3.0 (0.0)\n",
            "Epoch 058/100 | Loss 0.0019 | Win/lose count 7.0/1.0 (6.0)\n",
            "Epoch 059/100 | Loss 0.0044 | Win/lose count 4.0/3.0 (1.0)\n",
            "Epoch 060/100 | Loss 0.0050 | Win/lose count 4.0/2.0 (2.0)\n",
            "Epoch 061/100 | Loss 0.0047 | Win/lose count 8.0/5.0 (3.0)\n",
            "Epoch 062/100 | Loss 0.0089 | Win/lose count 15.5/6.0 (9.5)\n",
            "Epoch 063/100 | Loss 0.0475 | Win/lose count 10.0/2.0 (8.0)\n",
            "Epoch 064/100 | Loss 0.0057 | Win/lose count 10.0/3.0 (7.0)\n",
            "Epoch 065/100 | Loss 0.0503 | Win/lose count 6.5/2.0 (4.5)\n",
            "Epoch 066/100 | Loss 0.0020 | Win/lose count 4.0/2.0 (2.0)\n",
            "Epoch 067/100 | Loss 0.0052 | Win/lose count 9.5/2.0 (7.5)\n",
            "Epoch 068/100 | Loss 0.0063 | Win/lose count 7.0/1.0 (6.0)\n",
            "Epoch 069/100 | Loss 0.0050 | Win/lose count 13.0/4.0 (9.0)\n",
            "Epoch 070/100 | Loss 0.0575 | Win/lose count 3.5/2.0 (1.5)\n",
            "Epoch 071/100 | Loss 0.0289 | Win/lose count 7.5/1.0 (6.5)\n",
            "Epoch 072/100 | Loss 0.0042 | Win/lose count 13.5/3.0 (10.5)\n",
            "Epoch 073/100 | Loss 0.0076 | Win/lose count 5.0/2.0 (3.0)\n",
            "Epoch 074/100 | Loss 0.0031 | Win/lose count 2.5/0 (2.5)\n",
            "Epoch 075/100 | Loss 0.0365 | Win/lose count 8.5/2.0 (6.5)\n",
            "Epoch 076/100 | Loss 0.0036 | Win/lose count 4.0/2.0 (2.0)\n",
            "Epoch 077/100 | Loss 0.0052 | Win/lose count 13.0/2.0 (11.0)\n",
            "Epoch 078/100 | Loss 0.0030 | Win/lose count 10.5/2.0 (8.5)\n",
            "Epoch 079/100 | Loss 0.0064 | Win/lose count 17.5/5.0 (12.5)\n",
            "Epoch 080/100 | Loss 0.0022 | Win/lose count 3.5/2.0 (1.5)\n",
            "Epoch 081/100 | Loss 0.0043 | Win/lose count 9.5/7.0 (2.5)\n",
            "Epoch 082/100 | Loss 0.0036 | Win/lose count 18.5/1.0 (17.5)\n",
            "Epoch 083/100 | Loss 0.0057 | Win/lose count 9.5/1.0 (8.5)\n",
            "Epoch 084/100 | Loss 0.0060 | Win/lose count 3.5/1.0 (2.5)\n",
            "Epoch 085/100 | Loss 0.0527 | Win/lose count 13.5/5.0 (8.5)\n",
            "Epoch 086/100 | Loss 0.0034 | Win/lose count 14.0/2.0 (12.0)\n",
            "Epoch 087/100 | Loss 0.0498 | Win/lose count 9.5/1.0 (8.5)\n",
            "Epoch 088/100 | Loss 0.0024 | Win/lose count 8.0/2.0 (6.0)\n",
            "Epoch 089/100 | Loss 0.0061 | Win/lose count 14.5/5.0 (9.5)\n",
            "Epoch 090/100 | Loss 0.0052 | Win/lose count 19.0/2.0 (17.0)\n",
            "Epoch 091/100 | Loss 0.0037 | Win/lose count 11.0/0 (11.0)\n",
            "Epoch 092/100 | Loss 0.0042 | Win/lose count 12.5/3.0 (9.5)\n",
            "Epoch 093/100 | Loss 0.0026 | Win/lose count 7.5/2.0 (5.5)\n",
            "Epoch 094/100 | Loss 0.0382 | Win/lose count 9.5/3.0 (6.5)\n",
            "Epoch 095/100 | Loss 0.0036 | Win/lose count 10.5/5.0 (5.5)\n",
            "Epoch 096/100 | Loss 0.0026 | Win/lose count 10.5/1.0 (9.5)\n",
            "Epoch 097/100 | Loss 0.0021 | Win/lose count 8.0/1.0 (7.0)\n",
            "Epoch 098/100 | Loss 0.0022 | Win/lose count 12.5/0 (12.5)\n",
            "Epoch 099/100 | Loss 0.0026 | Win/lose count 9.0/6.0 (3.0)\n"
          ],
          "name": "stdout"
        },
        {
          "output_type": "execute_result",
          "data": {
            "text/html": [
              "<video alt=\"test\" controls>\n",
              "                <source src=\"data:video/mp4;base64,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\" type=\"video/mp4\" />\n",
              "             </video>"
            ],
            "text/plain": [
              "<IPython.core.display.HTML object>"
            ]
          },
          "metadata": {
            "tags": []
          },
          "execution_count": 60
        }
      ]
    },
    {
      "metadata": {
        "id": "fjI4wB8eoUXP",
        "colab_type": "text"
      },
      "cell_type": "markdown",
      "source": [
        "***\n",
        "***\n",
        "__Question 8__ Implement the DQN training algorithm using a CNN (for example, 2 convolutional layers and one final fully connected layer)."
      ]
    },
    {
      "metadata": {
        "id": "BuzVkSSLoUXR",
        "colab_type": "code",
        "colab": {}
      },
      "cell_type": "code",
      "source": [
        "from keras.layers.core import Flatten\n",
        "from keras.layers.core import Dropout\n",
        "\n",
        "class DQN_CNN(DQN):\n",
        "    def __init__(self, *args,lr=0.1,**kwargs):\n",
        "        super(DQN_CNN, self).__init__(*args,**kwargs)\n",
        "        \n",
        "        model = Sequential()\n",
        "        model.add(Conv2D(32, (2, 2), input_shape=(5,5,self.n_state,), activation='relu'))\n",
        "        model.add(Dropout(rate=0.2))\n",
        "        model.add(Conv2D(64, (2, 2), activation='relu'))\n",
        "        model.add(Flatten())\n",
        "        model.add(Dense(4))\n",
        "        \n",
        "        model.compile(sgd(lr=lr, decay=1e-4, momentum=0.1), \"mse\")\n",
        "        self.model = model"
      ],
      "execution_count": 0,
      "outputs": []
    },
    {
      "metadata": {
        "id": "MpwdZmJxoUXV",
        "colab_type": "code",
        "colab": {
          "base_uri": "https://localhost:8080/",
          "height": 1922
        },
        "outputId": "1eb586ab-c6f6-4b69-cff8-3395f1791d77"
      },
      "cell_type": "code",
      "source": [
        "env = Environment(grid_size=size, max_time=T, temperature=0.3)\n",
        "agent = DQN_CNN(size, lr=.1, epsilon = 0.1, memory_size=2000, batch_size = 32)\n",
        "train(agent,env,epochs_train,prefix='cnn_train')\n",
        "HTML(display_videos('cnn_train.mp4'))"
      ],
      "execution_count": 64,
      "outputs": [
        {
          "output_type": "stream",
          "text": [
            "WARNING:tensorflow:From /usr/local/lib/python3.6/dist-packages/keras/backend/tensorflow_backend.py:3445: calling dropout (from tensorflow.python.ops.nn_ops) with keep_prob is deprecated and will be removed in a future version.\n",
            "Instructions for updating:\n",
            "Please use `rate` instead of `keep_prob`. Rate should be set to `rate = 1 - keep_prob`.\n",
            "Epoch 000/100 | Loss 0.0232 | Win/lose count 3.5/2.0 (1.5)\n",
            "Epoch 001/100 | Loss 0.0057 | Win/lose count 2.5/3.0 (-0.5)\n",
            "Epoch 002/100 | Loss 0.0064 | Win/lose count 3.5/4.0 (-0.5)\n",
            "Epoch 003/100 | Loss 0.0012 | Win/lose count 1.0/0 (1.0)\n",
            "Epoch 004/100 | Loss 0.0009 | Win/lose count 9.0/6.0 (3.0)\n",
            "Epoch 005/100 | Loss 0.0068 | Win/lose count 3.5/2.0 (1.5)\n",
            "Epoch 006/100 | Loss 0.0078 | Win/lose count 3.5/1.0 (2.5)\n",
            "Epoch 007/100 | Loss 0.0022 | Win/lose count 3.0/2.0 (1.0)\n",
            "Epoch 008/100 | Loss 0.0015 | Win/lose count 3.0/1.0 (2.0)\n",
            "Epoch 009/100 | Loss 0.0144 | Win/lose count 8.0/3.0 (5.0)\n",
            "Epoch 010/100 | Loss 0.0041 | Win/lose count 4.5/3.0 (1.5)\n",
            "Epoch 011/100 | Loss 0.0050 | Win/lose count 2.5/6.0 (-3.5)\n",
            "Epoch 012/100 | Loss 0.0035 | Win/lose count 7.5/4.0 (3.5)\n",
            "Epoch 013/100 | Loss 0.0043 | Win/lose count 6.5/2.0 (4.5)\n",
            "Epoch 014/100 | Loss 0.0055 | Win/lose count 5.5/3.0 (2.5)\n",
            "Epoch 015/100 | Loss 0.0070 | Win/lose count 5.0/1.0 (4.0)\n",
            "Epoch 016/100 | Loss 0.0058 | Win/lose count 2.0/3.0 (-1.0)\n",
            "Epoch 017/100 | Loss 0.0070 | Win/lose count 7.0/4.0 (3.0)\n",
            "Epoch 018/100 | Loss 0.0056 | Win/lose count 10.0/5.0 (5.0)\n",
            "Epoch 019/100 | Loss 0.0083 | Win/lose count 14.5/4.0 (10.5)\n",
            "Epoch 020/100 | Loss 0.0116 | Win/lose count 10.0/6.0 (4.0)\n",
            "Epoch 021/100 | Loss 0.0049 | Win/lose count 16.0/1.0 (15.0)\n",
            "Epoch 022/100 | Loss 0.0095 | Win/lose count 13.0/3.0 (10.0)\n",
            "Epoch 023/100 | Loss 0.0059 | Win/lose count 10.0/6.0 (4.0)\n",
            "Epoch 024/100 | Loss 0.0857 | Win/lose count 7.5/2.0 (5.5)\n",
            "Epoch 025/100 | Loss 0.0070 | Win/lose count 10.0/4.0 (6.0)\n",
            "Epoch 026/100 | Loss 0.0157 | Win/lose count 20.0/2.0 (18.0)\n",
            "Epoch 027/100 | Loss 0.0050 | Win/lose count 6.0/3.0 (3.0)\n",
            "Epoch 028/100 | Loss 0.0052 | Win/lose count 14.5/4.0 (10.5)\n",
            "Epoch 029/100 | Loss 0.0049 | Win/lose count 12.5/2.0 (10.5)\n",
            "Epoch 030/100 | Loss 0.0059 | Win/lose count 10.0/1.0 (9.0)\n",
            "Epoch 031/100 | Loss 0.0472 | Win/lose count 19.0/5.0 (14.0)\n",
            "Epoch 032/100 | Loss 0.0039 | Win/lose count 10.0/2.0 (8.0)\n",
            "Epoch 033/100 | Loss 0.0032 | Win/lose count 14.5/4.0 (10.5)\n",
            "Epoch 034/100 | Loss 0.0051 | Win/lose count 22.0/1.0 (21.0)\n",
            "Epoch 035/100 | Loss 0.0037 | Win/lose count 18.5/3.0 (15.5)\n",
            "Epoch 036/100 | Loss 0.0504 | Win/lose count 15.5/0 (15.5)\n",
            "Epoch 037/100 | Loss 0.0062 | Win/lose count 22.0/5.0 (17.0)\n",
            "Epoch 038/100 | Loss 0.0042 | Win/lose count 15.0/4.0 (11.0)\n",
            "Epoch 039/100 | Loss 0.0051 | Win/lose count 13.0/3.0 (10.0)\n",
            "Epoch 040/100 | Loss 0.0041 | Win/lose count 13.5/3.0 (10.5)\n",
            "Epoch 041/100 | Loss 0.0489 | Win/lose count 8.5/5.0 (3.5)\n",
            "Epoch 042/100 | Loss 0.0028 | Win/lose count 17.5/1.0 (16.5)\n",
            "Epoch 043/100 | Loss 0.0437 | Win/lose count 15.0/4.0 (11.0)\n",
            "Epoch 044/100 | Loss 0.0075 | Win/lose count 17.0/5.0 (12.0)\n",
            "Epoch 045/100 | Loss 0.0051 | Win/lose count 17.0/2.0 (15.0)\n",
            "Epoch 046/100 | Loss 0.0504 | Win/lose count 20.5/4.0 (16.5)\n",
            "Epoch 047/100 | Loss 0.0025 | Win/lose count 11.5/4.0 (7.5)\n",
            "Epoch 048/100 | Loss 0.0050 | Win/lose count 21.0/1.0 (20.0)\n",
            "Epoch 049/100 | Loss 0.0419 | Win/lose count 20.0/5.0 (15.0)\n",
            "Epoch 050/100 | Loss 0.0052 | Win/lose count 24.5/2.0 (22.5)\n",
            "Epoch 051/100 | Loss 0.0065 | Win/lose count 24.5/2.0 (22.5)\n",
            "Epoch 052/100 | Loss 0.0037 | Win/lose count 22.5/4.0 (18.5)\n",
            "Epoch 053/100 | Loss 0.0045 | Win/lose count 15.5/8.0 (7.5)\n",
            "Epoch 054/100 | Loss 0.0055 | Win/lose count 19.5/7.0 (12.5)\n",
            "Epoch 055/100 | Loss 0.0052 | Win/lose count 17.5/4.0 (13.5)\n",
            "Epoch 056/100 | Loss 0.0543 | Win/lose count 19.0/3.0 (16.0)\n",
            "Epoch 057/100 | Loss 0.0042 | Win/lose count 20.0/2.0 (18.0)\n",
            "Epoch 058/100 | Loss 0.0031 | Win/lose count 9.0/2.0 (7.0)\n",
            "Epoch 059/100 | Loss 0.0047 | Win/lose count 12.5/4.0 (8.5)\n",
            "Epoch 060/100 | Loss 0.0042 | Win/lose count 10.0/3.0 (7.0)\n",
            "Epoch 061/100 | Loss 0.0046 | Win/lose count 18.0/0 (18.0)\n",
            "Epoch 062/100 | Loss 0.0052 | Win/lose count 24.0/1.0 (23.0)\n",
            "Epoch 063/100 | Loss 0.0054 | Win/lose count 18.5/4.0 (14.5)\n",
            "Epoch 064/100 | Loss 0.0034 | Win/lose count 24.5/0 (24.5)\n",
            "Epoch 065/100 | Loss 0.0047 | Win/lose count 11.5/2.0 (9.5)\n",
            "Epoch 066/100 | Loss 0.0570 | Win/lose count 13.0/1.0 (12.0)\n",
            "Epoch 067/100 | Loss 0.0034 | Win/lose count 8.5/0 (8.5)\n",
            "Epoch 068/100 | Loss 0.0538 | Win/lose count 16.0/5.0 (11.0)\n",
            "Epoch 069/100 | Loss 0.0534 | Win/lose count 19.5/2.0 (17.5)\n",
            "Epoch 070/100 | Loss 0.0054 | Win/lose count 22.5/3.0 (19.5)\n",
            "Epoch 071/100 | Loss 0.0040 | Win/lose count 24.5/3.0 (21.5)\n",
            "Epoch 072/100 | Loss 0.0131 | Win/lose count 16.5/1.0 (15.5)\n",
            "Epoch 073/100 | Loss 0.0033 | Win/lose count 22.5/1.0 (21.5)\n",
            "Epoch 074/100 | Loss 0.0038 | Win/lose count 23.5/2.0 (21.5)\n",
            "Epoch 075/100 | Loss 0.0060 | Win/lose count 16.0/3.0 (13.0)\n",
            "Epoch 076/100 | Loss 0.0535 | Win/lose count 19.0/3.0 (16.0)\n",
            "Epoch 077/100 | Loss 0.0020 | Win/lose count 19.5/2.0 (17.5)\n",
            "Epoch 078/100 | Loss 0.0570 | Win/lose count 22.0/3.0 (19.0)\n",
            "Epoch 079/100 | Loss 0.0027 | Win/lose count 14.5/2.0 (12.5)\n",
            "Epoch 080/100 | Loss 0.0040 | Win/lose count 26.5/1.0 (25.5)\n",
            "Epoch 081/100 | Loss 0.0033 | Win/lose count 19.5/3.0 (16.5)\n",
            "Epoch 082/100 | Loss 0.0046 | Win/lose count 17.5/3.0 (14.5)\n",
            "Epoch 083/100 | Loss 0.0038 | Win/lose count 20.5/0 (20.5)\n",
            "Epoch 084/100 | Loss 0.0039 | Win/lose count 25.0/6.0 (19.0)\n",
            "Epoch 085/100 | Loss 0.0048 | Win/lose count 28.0/2.0 (26.0)\n",
            "Epoch 086/100 | Loss 0.0058 | Win/lose count 20.5/1.0 (19.5)\n",
            "Epoch 087/100 | Loss 0.0046 | Win/lose count 23.5/3.0 (20.5)\n",
            "Epoch 088/100 | Loss 0.0518 | Win/lose count 20.0/5.0 (15.0)\n",
            "Epoch 089/100 | Loss 0.0038 | Win/lose count 7.0/4.0 (3.0)\n",
            "Epoch 090/100 | Loss 0.0045 | Win/lose count 21.5/4.0 (17.5)\n",
            "Epoch 091/100 | Loss 0.0021 | Win/lose count 15.5/3.0 (12.5)\n",
            "Epoch 092/100 | Loss 0.0041 | Win/lose count 17.5/2.0 (15.5)\n",
            "Epoch 093/100 | Loss 0.0036 | Win/lose count 15.0/5.0 (10.0)\n",
            "Epoch 094/100 | Loss 0.0042 | Win/lose count 16.0/2.0 (14.0)\n",
            "Epoch 095/100 | Loss 0.0490 | Win/lose count 12.0/1.0 (11.0)\n",
            "Epoch 096/100 | Loss 0.0044 | Win/lose count 10.0/1.0 (9.0)\n",
            "Epoch 097/100 | Loss 0.0043 | Win/lose count 16.5/3.0 (13.5)\n",
            "Epoch 098/100 | Loss 0.0060 | Win/lose count 18.0/3.0 (15.0)\n",
            "Epoch 099/100 | Loss 0.0070 | Win/lose count 18.5/3.0 (15.5)\n"
          ],
          "name": "stdout"
        },
        {
          "output_type": "execute_result",
          "data": {
            "text/html": [
              "<video alt=\"test\" controls>\n",
              "                <source src=\"data:video/mp4;base64,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\" type=\"video/mp4\" />\n",
              "             </video>"
            ],
            "text/plain": [
              "<IPython.core.display.HTML object>"
            ]
          },
          "metadata": {
            "tags": []
          },
          "execution_count": 64
        }
      ]
    },
    {
      "metadata": {
        "id": "tyQrF-I4oUXY",
        "colab_type": "text"
      },
      "cell_type": "markdown",
      "source": [
        "***\n",
        "***\n",
        "__Question 9__ Test both algorithms and compare their performances. Which issue(s) do you observe? Observe also different behaviors by changing the temperature."
      ]
    },
    {
      "metadata": {
        "id": "JpcDU_ouoUXZ",
        "colab_type": "code",
        "colab": {
          "base_uri": "https://localhost:8080/",
          "height": 420
        },
        "outputId": "0a86906c-dacb-4ef3-ef1a-179e87403bc0"
      },
      "cell_type": "code",
      "source": [
        "env = Environment(grid_size=size, max_time=T,temperature=0.9)\n",
        "agent_cnn = DQN_CNN(size, lr=.1, epsilon = 0.1, memory_size=2000, batch_size = 32)\n",
        "agent_cnn.load(name_weights='cnn_trainmodel.h5',name_model='cnn_trainmodel.json')\n",
        "\n",
        "agent_fc = DQN_FC(size, lr=.1, epsilon = 0.1, memory_size=2000, batch_size = 32)\n",
        "agent_fc.load(name_weights='fc_trainmodel.h5',name_model='fc_trainmodel.json')\n",
        "print('Test of the CNN')\n",
        "test(agent_cnn,env,epochs_test,prefix='cnn_test')\n",
        "print('Test of the FC')\n",
        "test(agent_fc,env,epochs_test,prefix='fc_test')"
      ],
      "execution_count": 119,
      "outputs": [
        {
          "output_type": "stream",
          "text": [
            "Test of the CNN\n",
            "Win/lose count 45.0/0. Average score (45.0)\n",
            "Win/lose count 44.0/0. Average score (44.5)\n",
            "Win/lose count 59.5/1.0. Average score (49.166666666666664)\n",
            "Win/lose count 60.5/2.0. Average score (51.5)\n",
            "Win/lose count 30.5/3.0. Average score (46.7)\n",
            "Win/lose count 60.5/2.0. Average score (48.666666666666664)\n",
            "Win/lose count 72.0/2.0. Average score (51.714285714285715)\n",
            "Win/lose count 67.5/6.0. Average score (52.9375)\n",
            "Win/lose count 39.0/0. Average score (51.388888888888886)\n",
            "Win/lose count 40.5/3.0. Average score (50.0)\n",
            "Final score: 50.0\n",
            "Test of the FC\n",
            "Win/lose count 37.0/2.0. Average score (35.0)\n",
            "Win/lose count 51.0/2.0. Average score (42.0)\n",
            "Win/lose count 20.0/0. Average score (34.666666666666664)\n",
            "Win/lose count 33.0/1.0. Average score (34.0)\n",
            "Win/lose count 16.0/1.0. Average score (30.2)\n",
            "Win/lose count 21.0/1.0. Average score (28.5)\n",
            "Win/lose count 28.5/3.0. Average score (28.071428571428573)\n",
            "Win/lose count 20.5/1.0. Average score (27.0)\n",
            "Win/lose count 17.5/0. Average score (25.944444444444443)\n",
            "Win/lose count 23.5/0. Average score (25.7)\n",
            "Final score: 25.7\n"
          ],
          "name": "stdout"
        }
      ]
    },
    {
      "metadata": {
        "id": "u8vMt5-uoUXd",
        "colab_type": "code",
        "colab": {
          "base_uri": "https://localhost:8080/",
          "height": 293
        },
        "outputId": "0c4b2a50-3aa2-4dfc-fdb2-3a77566e2b9e"
      },
      "cell_type": "code",
      "source": [
        "HTML(display_videos('cnn_test9.mp4'))"
      ],
      "execution_count": 120,
      "outputs": [
        {
          "output_type": "execute_result",
          "data": {
            "text/html": [
              "<video alt=\"test\" controls>\n",
              "                <source src=\"data:video/mp4;base64,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\" type=\"video/mp4\" />\n",
              "             </video>"
            ],
            "text/plain": [
              "<IPython.core.display.HTML object>"
            ]
          },
          "metadata": {
            "tags": []
          },
          "execution_count": 120
        }
      ]
    },
    {
      "metadata": {
        "id": "LBDY5bCKoUXf",
        "colab_type": "code",
        "colab": {
          "base_uri": "https://localhost:8080/",
          "height": 293
        },
        "outputId": "39626023-0e66-41b9-ed0a-9de43c7958de"
      },
      "cell_type": "code",
      "source": [
        "HTML(display_videos('fc_test9.mp4'))"
      ],
      "execution_count": 80,
      "outputs": [
        {
          "output_type": "execute_result",
          "data": {
            "text/html": [
              "<video alt=\"test\" controls>\n",
              "                <source src=\"data:video/mp4;base64,AAAAIGZ0eXBpc29tAAACAGlzb21pc28yYXZjMW1wNDEAAAAIZnJlZQAAFLJtZGF0AAACrQYF//+p3EXpvebZSLeWLNgg2SPu73gyNjQgLSBjb3JlIDE1MiByMjg1NCBlOWE1OTAzIC0gSC4yNjQvTVBFRy00IEFWQyBjb2RlYyAtIENvcHlsZWZ0IDIwMDMtMjAxNyAtIGh0dHA6Ly93d3cudmlkZW9sYW4ub3JnL3gyNjQuaHRtbCAtIG9wdGlvbnM6IGNhYmFjPTEgcmVmPTMgZGVibG9jaz0xOjA6MCBhbmFseXNlPTB4MToweDExMSBtZT1oZXggc3VibWU9NyBwc3k9MSBwc3lfcmQ9MS4wMDowLjAwIG1peGVkX3JlZj0xIG1lX3JhbmdlPTE2IGNocm9tYV9tZT0xIHRyZWxsaXM9MSA4eDhkY3Q9MCBjcW09MCBkZWFkem9uZT0yMSwxMSBmYXN0X3Bza2lwPTEgY2hyb21hX3FwX29mZnNldD00IHRocmVhZHM9MyBsb29rYWhlYWRfdGhyZWFkcz0xIHNsaWNlZF90aHJlYWRzPTAgbnI9MCBkZWNpbWF0ZT0xIGludGVybGFjZWQ9MCBibHVyYXlfY29tcGF0PTAgY29uc3RyYWluZWRfaW50cmE9MCBiZnJhbWVzPTMgYl9weXJhbWlkPTIgYl9hZGFwdD0xIGJfYmlhcz0wIGRpcmVjdD0xIHdlaWdodGI9MSBvcGVuX2dvcD0wIHdlaWdodHA9MiBrZXlpbnQ9MjUwIGtleWludF9taW49MjUgc2NlbmVjdXQ9NDAgaW50cmFfcmVmcmVzaD0wIHJjX2xvb2thaGVhZD00MCByYz1jcmYgbWJ0cmVlPTEgY3JmPTIzLjAgcWNvbXA9MC42MCBxcG1pbj0wIHFwbWF4PTY5IHFwc3RlcD00IGlwX3JhdGlvPTEuNDAgYXE9MToxLjAwAIAAAAEEZYiEADf//vaH+BTZWBP+Wb/9DX/cj9uPrP1xYyEE31qvIejAGS+1H+b/rFFs6Z6UB/fgCJQAc24ZwpJw4v/ApLdW+BTLYTkVLnX1aIxw4jw34T+srwtQbsVYpK9aMq6yun+0KfSPwEfAAAdIQEXapRW/rKNKkzKLSH4K6H++h6AxaGyekKs0i6b8KDOKhExt4xUrSvluO4AGKARj7GeJEDk44BQ12FvukC+qzzNZp8WA3Jpi8BHx8hyVLAOJORKjZTWVABRPsoBNGzywcIjpTAiCgBVd6UUGdHBFqMwF2GpJuFwJsKvZ1+ocr3wQc25njL1cQ2OSIuL4SLEnMbzXdQAAEvEAAAAdQZoibEN//qeEACHfDnzLJFzPgUloH8CmW0cdboAAAAAbAZ5BeQr/ABwE7TmWPCNuZXotOZY9WyckVafBAAAAEEGaRDwhkymEN//+p4QAAScAAAAbAZ5jakK/ABwE7TmWPCNuZXotOZY9WyckVafBAAAAEkGaZknhDyZTBTw3//6nhAABJwAAABsBnoVqQr8AHATtOZY8I25lei05lj1bJyRVp8EAAAASQZqISeEPJlMFPDf//qeEAAEnAAAAGwGep2pCvwAcBO05ljwjbmV6LTmWPVsnJFWnwAAAABJBmqpJ4Q8mUwU8N//+p4QAAScAAAAbAZ7JakK/ABwE7TmWPCNuZXotOZY9WyckVafBAAAAJkGay0nhDyZTAh3//qmWABGfke+vMsoJwngUt+/vAppNS1QT+wMeAAAAFkGa70nhDyZTAhv//qeEACCpe1mR6fAAAAAOQZ8NRRE8L/8AE+ZUN6EAAAAQAZ8sdEK/ABtdROe4SKtTgQAAABIBny5qQr8AHFqh3jPZqC499PkAAAAdQZsySahBaJlMCG///qeEACHfRz8l7f1UFuegN4AAAAATQZ9QRREsK/8AHFqh3mmRaq3yQAAAABABn3FqQr8AHFCA+A+v4EXxAAAAE0GbdEmoQWyZTBRMN//+p4QAAScAAAAPAZ+TakK/ABJXmiC1Hl8eAAAAEkGblknhClJlMFLDf/6nhAABJwAAAA8Bn7VqQr8AEleaILUeXx4AAAASQZu4SeEOiZTBRMN//qeEAAEnAAAADwGf12pCvwASV5ogtR5fHwAAABJBm9pJ4Q8mUwU8N//+p4QAAScAAAAPAZ/5akK/ABJXmiC1Hl8fAAAAEkGb/EnhDyZTBTw3//6nhAABJwAAAA8BnhtqQr8AEleaILUeXx8AAAASQZoeSeEPJlMFPDf//qeEAAEnAAAADwGePWpCvwASV5ogtR5fHgAAABJBmiBJ4Q8mUwU8N//+p4QAAScAAAAPAZ5fakK/ABJXmiC1Hl8fAAAAEkGaQknhDyZTBTw3//6nhAABJwAAAA8BnmFqQr8AEleaILUeXx8AAAAZQZplSeEPJlMCG//+p4QAFj91P1HGhIdLwAAAABFBnoNFETwr/wASXNG803vVhQAAAA4BnqRqQr8AEllGPRFfXQAAABZBmqdJqEFomUwU8M/+nhAAON6+/opPAAAADwGexmpCvwAL8Cxolc8wKQAAABlBmshJ4QpSZTAhv/6nhAAWH0T/Vb5j8UvAAAAAG0Ga6UnhDomUwIb//qeEACGoAs220BgE1/dlMAAAABNBmwtJ4Q8mUwURPDf//qeEAAEnAAAADwGfKmpCvwAcTnDYHKdPgAAAABJBmy1J4Q8mUwU8N//+p4QAAScAAAAQAZ9MakK/ABxOcNfVB080+QAAABJBm09J4Q8mUwU8N//+p4QAAScAAAAQAZ9uakK/ABxOcNfVB080+QAAABJBm3FJ4Q8mUwU8N//+p4QAAScAAAAQAZ+QakK/ABxOcNfVB080+AAAABJBm5NJ4Q8mUwU8N//+p4QAAScAAAAQAZ+yakK/ABxOcNfVB080+AAAABJBm7VJ4Q8mUwU8N//+p4QAAScAAAAQAZ/UakK/ABxOcNfVB080+QAAABJBm9dJ4Q8mUwU8N//+p4QAAScAAAAQAZ/2akK/ABxOcNfVB080+QAAABJBm/lJ4Q8mUwU8N//+p4QAAScAAAAQAZ4YakK/ABxOcNfVB080+AAAABJBmhtJ4Q8mUwU8N//+p4QAAScAAAAQAZ46akK/ABxOcNfVB080+AAAABJBmj1J4Q8mUwU8N//+p4QAAScAAAAQAZ5cakK/ABxOcNfVB080+QAAABJBml9J4Q8mUwU8N//+p4QAAScAAAAQAZ5+akK/ABxOcNfVB080+AAAABJBmmFJ4Q8mUwU8N//+p4QAAScAAAAQAZ6AakK/ABxOcNfVB080+AAAABJBmoNJ4Q8mUwU8N//+p4QAAScAAAAQAZ6iakK/ABxOcNfVB080+AAAABJBmqVJ4Q8mUwU8N//+p4QAAScAAAAQAZ7EakK/ABxOcNfVB080+QAAABJBmsdJ4Q8mUwU8N//+p4QAAScAAAAQAZ7makK/ABxOcNfVB080+QAAABJBmulJ4Q8mUwU8N//+p4QAAScAAAAQAZ8IakK/ABxOcNfVB080+AAAABJBmwtJ4Q8mUwU8N//+p4QAAScAAAAQAZ8qakK/ABxOcNfVB080+AAAABJBmy1J4Q8mUwU8N//+p4QAAScAAAAQAZ9MakK/ABxOcNfVB080+QAAABJBm09J4Q8mUwU8N//+p4QAAScAAAAQAZ9uakK/ABxOcNfVB080+QAAABJBm3FJ4Q8mUwU8N//+p4QAAScAAAAQAZ+QakK/ABxOcNfVB080+AAAABJBm5NJ4Q8mUwU8N//+p4QAAScAAAAQAZ+yakK/ABxOcNfVB080+AAAABJBm7VJ4Q8mUwU8N//+p4QAAScAAAAQAZ/UakK/ABxOcNfVB080+QAAABJBm9dJ4Q8mUwU8N//+p4QAAScAAAAQAZ/2akK/ABxOcNfVB080+QAAABJBm/lJ4Q8mUwU8N//+p4QAAScAAAAQAZ4YakK/ABxOcNfVB080+AAAABJBmhtJ4Q8mUwU8N//+p4QAAScAAAAQAZ46akK/ABxOcNfVB080+AAAABJBmj1J4Q8mUwU8N//+p4QAAScAAAAQAZ5cakK/ABxOcNfVB080+QAAABJBml9J4Q8mUwU8N//+p4QAAScAAAAQAZ5+akK/ABxOcNfVB080+AAAABJBmmFJ4Q8mUwU8N//+p4QAAScAAAAQAZ6AakK/ABxOcNfVB080+AAAABJBmoNJ4Q8mUwU8N//+p4QAAScAAAAQAZ6iakK/ABxOcNfVB080+AAAABJBmqVJ4Q8mUwU8M//+nhAABH0AAAAQAZ7EakK/ABxOcNfVB080+QAAABlBmsZJ4Q8mUwIZ//6eEACGiHHvW2DnZBuBAAAAF0Ga50nhDyZTAhv//qeEACOj5jlcNtxfAAAAGkGbCEnhDyZTAhv//qeEADc0if6rgWn/ms+AAAAAGUGbKUnhDyZTAh3//qmWABvKkGXWlHI2lE4AAAAWQZtNSeEPJlMCG//+p4QANLSJ/qujcQAAAA5Bn2tFETwv/wAfD9wD4AAAABABn4p0Qr8AK9bW3TsuywOAAAAAEAGfjGpCvwAr1tbYZ6s944EAAAAaQZuQSahBaJlMCG///qeEADcurR0fcbMFg3EAAAARQZ+uRREsK/8ALXYVgkJW/JkAAAAOAZ/PakK/AC12JiuBKmQAAAAbQZvRSahBbJlMCG///qeEAFY9E/1XArU/zUHAAAAAHEGb9EnhClJlMCG//qeEAIKgCzbbTc//WUfk0TUAAAASQZ4SRTRMK/8AbB2n/RyRVPSAAAAADgGeM2pCvwBsHarmvVPSAAAAHkGaN0moQWiZTAhv//6nhADM0if6rgVqfxqab8merQAAABFBnlVFESwr/wCoWO/6OSKpQQAAAA4BnnZqQr8AqFj1zXqlBQAAABpBmnhJqEFsmUwIb//+p4QAzNIn8pgm9hXVMQAAABtBmplJ4QpSZTAh3/6plgBlviEA/vC1BP7AImAAAAASQZq9SeEOiZTAh3/+qZYAAJWBAAAADEGe20URPC//AACygAAAABABnvp0Qr8Ao9o70u2hFsqBAAAAEAGe/GpCvwCjqNEtDAeNsqEAAAATQZrhSahBaJlMCHf//qmWAACVgAAAAAxBnx9FESwv/wAAsoAAAAAQAZ8+dEK/AKPaO9LusMWyoQAAABABnyBqQr8Ao6jRLQwHjbKgAAAAE0GbJUmoQWyZTAh3//6plgAAlYEAAAAMQZ9DRRUsL/8AALKAAAAAEAGfYnRCvwCj2jvS7rDFsqEAAAAQAZ9kakK/AKOo0S0MB42yoQAAABNBm2lJqEFsmUwId//+qZYAAJWBAAAADEGfh0UVLC//AACygQAAABABn6Z0Qr8Ao9o70u6wxbKgAAAAEAGfqGpCvwCjqNEtDAeNsqAAAAATQZutSahBbJlMCHf//qmWAACVgQAAAAxBn8tFFSwv/wAAsoAAAAAQAZ/qdEK/AKPaO9LusMWyoAAAABABn+xqQr8Ao6jRLQwHjbKhAAAAE0Gb8UmoQWyZTAh3//6plgAAlYEAAAAMQZ4PRRUsL/8AALKBAAAAEAGeLnRCvwCj2jvS7rDFsqAAAAAQAZ4wakK/AKOo0S0MB42yoAAAABNBmjVJqEFsmUwId//+qZYAAJWBAAAADEGeU0UVLC//AACygAAAABABnnJ0Qr8Ao9o70u6wxbKgAAAAEAGedGpCvwCjqNEtDAeNsqEAAAATQZp5SahBbJlMCHf//qmWAACVgAAAAAxBnpdFFSwv/wAAsoEAAAAQAZ62dEK/AKPaO9LusMWyoQAAABABnrhqQr8Ao6jRLQwHjbKgAAAAHEGavEmoQWyZTAh3//6plgCYIsN0YhLoMf+ILKEAAAASQZ7aRRUsK/8A8rPmW8NyDif4AAAADwGe+2pCvwDys+Y38DS1IQAAABxBmuBJqEFsmUwId//+qZYAnCLF8YmY/S4RAZqRAAAAEEGfHkUVLC//ALox5BV4O8YAAAAPAZ89dEK/APg2Brr4tKCAAAAAEAGfP2pCvwDyhEzTfSQcT/EAAAATQZskSahBbJlMCHf//qmWAACVgAAAAAxBn0JFFSwv/wAAsoEAAAAPAZ9hdEK/AKHZRxHZdlUfAAAADwGfY2pCvwCh2UbrPVnp6QAAABNBm2hJqEFsmUwId//+qZYAAJWBAAAADEGfhkUVLC//AACygQAAAA8Bn6V0Qr8AodlHEdl2VR8AAAAPAZ+nakK/AKHZRus9WenpAAAAE0GbrEmoQWyZTAh3//6plgAAlYAAAAAMQZ/KRRUsL/8AALKBAAAADwGf6XRCvwCh2UcR2XZVHwAAAA8Bn+tqQr8AodlG6z1Z6ekAAAATQZvwSahBbJlMCHf//qmWAACVgQAAAAxBng5FFSwv/wAAsoEAAAAPAZ4tdEK/AKHZRxHZdlUfAAAADwGeL2pCvwCh2UbrPVnp6QAAABNBmjRJqEFsmUwId//+qZYAAJWAAAAADEGeUkUVLC//AACygQAAAA8BnnF0Qr8AodlHEdl2VR8AAAAPAZ5zakK/AKHZRus9WenpAAAAE0GaeEmoQWyZTAh3//6plgAAlYEAAAAMQZ6WRRUsL/8AALKAAAAADwGetXRCvwCh2UcR2XZVHwAAAA8BnrdqQr8AodlG6z1Z6ekAAAATQZq8SahBbJlMCHf//qmWAACVgAAAAAxBntpFFSwv/wAAsoEAAAAPAZ75dEK/AKHZRxHZdlUfAAAADwGe+2pCvwCh2UbrPVnp6QAAABJBmuBJqEFsmUwIb//+p4QAAScAAAAMQZ8eRRUsL/8AALKAAAAADwGfPXRCvwCh2UcR2XZVHwAAAA8Bnz9qQr8AodlG6z1Z6ekAAAASQZskSahBbJlMCG///qeEAAEnAAAADEGfQkUVLC//AACygQAAAA8Bn2F0Qr8AodlHEdl2VR8AAAAPAZ9jakK/AKHZRus9WenpAAAAEkGbaEmoQWyZTAhf//6MsAAEjQAAAAxBn4ZFFSwv/wAAsoEAAAAPAZ+ldEK/AKHZRxHZdlUfAAAADwGfp2pCvwCh2UbrPVnp6QAAABpBm6lLqEIQWyRGCCgH8gH9h4AhX/44QAARcAAADDBtb292AAAAbG12aGQAAAAAAAAAAAAAAAAAAAPoAAAfkAABAAABAAAAAAAAAAAAAAAAAQAAAAAAAAAAAAAAAAAAAAEAAAAAAAAAAAAAAAAAAEAAAAAAAAAAAAAAAAAAAAAAAAAAAAAAAAAAAAAAAAACAAALWnRyYWsAAABcdGtoZAAAAAMAAAAAAAAAAAAAAAEAAAAAAAAfkAAAAAAAAAAAAAAAAAAAAAAAAQAAAAAAAAAAAAAAAAAAAAEAAAAAAAAAAAAAAAAAAEAAAAABEAAAARAAAAAAACRlZHRzAAAAHGVsc3QAAAAAAAAAAQAAH5AAAAQAAAEAAAAACtJtZGlhAAAAIG1kaGQAAAAAAAAAAAAAAAAAADIAAAGUAFXEAAAAAAAtaGRscgAAAAAAAAAAdmlkZQAAAAAAAAAAAAAAAFZpZGVvSGFuZGxlcgAAAAp9bWluZgAAABR2bWhkAAAAAQAAAAAAAAAAAAAAJGRpbmYAAAAcZHJlZgAAAAAAAAABAAAADHVybCAAAAABAAAKPXN0YmwAAACVc3RzZAAAAAAAAAABAAAAhWF2YzEAAAAAAAAAAQAAAAAAAAAAAAAAAAAAAAABEAEQAEgAAABIAAAAAAAAAAEAAAAAAAAAAAAAAAAAAAAAAAAAAAAAAAAAAAAAAAAAAAAY//8AAAAvYXZjQwH0AA3/4QAXZ/QADZGbKCIR0IAAAAMAgAAAGQeKFMsBAAVo6+PESAAAABhzdHRzAAAAAAAAAAEAAADKAAACAAAAABRzdHNzAAAAAAAAAAEAAAABAAAGCGN0dHMAAAAAAAAAvwAAAAEAAAQAAAAAAQAABgAAAAABAAACAAAAAAEAAAYAAAAAAQAAAgAAAAABAAAGAAAAAAEAAAIAAAAAAQAABgAAAAABAAACAAAAAAEAAAYAAAAAAQAAAgAAAAABAAAEAAAAAAEAAAoAAAAAAQAABAAAAAABAAAAAAAAAAEAAAIAAAAAAQAACAAAAAACAAACAAAAAAEAAAYAAAAAAQAAAgAAAAABAAAGAAAAAAEAAAIAAAAAAQAABgAAAAABAAACAAAAAAEAAAYAAAAAAQAAAgAAAAABAAAGAAAAAAEAAAIAAAAAAQAABgAAAAABAAACAAAAAAEAAAYAAAAAAQAAAgAAAAABAAAGAAAAAAEAAAIAAAAAAQAACAAAAAACAAACAAAAAAEAAAYAAAAAAQAAAgAAAAACAAAEAAAAAAEAAAYAAAAAAQAAAgAAAAABAAAGAAAAAAEAAAIAAAAAAQAABgAAAAABAAACAAAAAAEAAAYAAAAAAQAAAgAAAAABAAAGAAAAAAEAAAIAAAAAAQAABgAAAAABAAACAAAAAAEAAAYAAAAAAQAAAgAAAAABAAAGAAAAAAEAAAIAAAAAAQAABgAAAAABAAACAAAAAAEAAAYAAAAAAQAAAgAAAAABAAAGAAAAAAEAAAIAAAAAAQAABgAAAAABAAACAAAAAAEAAAYAAAAAAQAAAgAAAAABAAAGAAAAAAEAAAIAAAAAAQAABgAAAAABAAACAAAAAAEAAAYAAAAAAQAAAgAAAAABAAAGAAAAAAEAAAIAAAAAAQAABgAAAAABAAACAAAAAAEAAAYAAAAAAQAAAgAAAAABAAAGAAAAAAEAAAIAAAAAAQAABgAAAAABAAACAAAAAAEAAAYAAAAAAQAAAgAAAAABAAAGAAAAAAEAAAIAAAAAAQAABgAAAAABAAACAAAAAAEAAAYAAAAAAQAAAgAAAAABAAAGAAAAAAEAAAIAAAAAAQAABgAAAAABAAACAAAAAAEAAAYAAAAAAQAAAgAAAAABAAAGAAAAAAEAAAIAAAAAAQAABgAAAAABAAACAAAAAAQAAAQAAAAAAQAACgAAAAABAAAEAAAAAAEAAAAAAAAAAQAAAgAAAAABAAAIAAAAAAIAAAIAAAAAAQAABAAAAAABAAAIAAAAAAIAAAIAAAAAAQAACAAAAAACAAACAAAAAAIAAAQAAAAAAQAACgAAAAABAAAEAAAAAAEAAAAAAAAAAQAAAgAAAAABAAAKAAAAAAEAAAQAAAAAAQAAAAAAAAABAAACAAAAAAEAAAoAAAAAAQAABAAAAAABAAAAAAAAAAEAAAIAAAAAAQAACgAAAAABAAAEAAAAAAEAAAAAAAAAAQAAAgAAAAABAAAKAAAAAAEAAAQAAAAAAQAAAAAAAAABAAACAAAAAAEAAAoAAAAAAQAABAAAAAABAAAAAAAAAAEAAAIAAAAAAQAACgAAAAABAAAEAAAAAAEAAAAAAAAAAQAAAgAAAAABAAAKAAAAAAEAAAQAAAAAAQAAAAAAAAABAAACAAAAAAEAAAgAAAAAAgAAAgAAAAABAAAKAAAAAAEAAAQAAAAAAQAAAAAAAAABAAACAAAAAAEAAAoAAAAAAQAABAAAAAABAAAAAAAAAAEAAAIAAAAAAQAACgAAAAABAAAEAAAAAAEAAAAAAAAAAQAAAgAAAAABAAAKAAAAAAEAAAQAAAAAAQAAAAAAAAABAAACAAAAAAEAAAoAAAAAAQAABAAAAAABAAAAAAAAAAEAAAIAAAAAAQAACgAAAAABAAAEAAAAAAEAAAAAAAAAAQAAAgAAAAABAAAKAAAAAAEAAAQAAAAAAQAAAAAAAAABAAACAAAAAAEAAAoAAAAAAQAABAAAAAABAAAAAAAAAAEAAAIAAAAAAQAACgAAAAABAAAEAAAAAAEAAAAAAAAAAQAAAgAAAAABAAAKAAAAAAEAAAQAAAAAAQAAAAAAAAABAAACAAAAAAEAAAoAAAAAAQAABAAAAAABAAAAAAAAAAEAAAIAAAAAAQAABAAAAAAcc3RzYwAAAAAAAAABAAAAAQAAAMoAAAABAAADPHN0c3oAAAAAAAAAAAAAAMoAAAO5AAAAIQAAAB8AAAAUAAAAHwAAABYAAAAfAAAAFgAAAB8AAAAWAAAAHwAAACoAAAAaAAAAEgAAABQAAAAWAAAAIQAAABcAAAAUAAAAFwAAABMAAAAWAAAAEwAAABYAAAATAAAAFgAAABMAAAAWAAAAEwAAABYAAAATAAAAFgAAABMAAAAWAAAAEwAAAB0AAAAVAAAAEgAAABoAAAATAAAAHQAAAB8AAAAXAAAAEwAAABYAAAAUAAAAFgAAABQAAAAWAAAAFAAAABYAAAAUAAAAFgAAABQAAAAWAAAAFAAAABYAAAAUAAAAFgAAABQAAAAWAAAAFAAAABYAAAAUAAAAFgAAABQAAAAWAAAAFAAAABYAAAAUAAAAFgAAABQAAAAWAAAAFAAAABYAAAAUAAAAFgAAABQAAAAWAAAAFAAAABYAAAAUAAAAFgAAABQAAAAWAAAAFAAAABYAAAAUAAAAFgAAABQAAAAWAAAAFAAAABYAAAAUAAAAFgAAABQAAAAWAAAAFAAAABYAAAAUAAAAFgAAABQAAAAdAAAAGwAAAB4AAAAdAAAAGgAAABIAAAAUAAAAFAAAAB4AAAAVAAAAEgAAAB8AAAAgAAAAFgAAABIAAAAiAAAAFQAAABIAAAAeAAAAHwAAABYAAAAQAAAAFAAAABQAAAAXAAAAEAAAABQAAAAUAAAAFwAAABAAAAAUAAAAFAAAABcAAAAQAAAAFAAAABQAAAAXAAAAEAAAABQAAAAUAAAAFwAAABAAAAAUAAAAFAAAABcAAAAQAAAAFAAAABQAAAAXAAAAEAAAABQAAAAUAAAAIAAAABYAAAATAAAAIAAAABQAAAATAAAAFAAAABcAAAAQAAAAEwAAABMAAAAXAAAAEAAAABMAAAATAAAAFwAAABAAAAATAAAAEwAAABcAAAAQAAAAEwAAABMAAAAXAAAAEAAAABMAAAATAAAAFwAAABAAAAATAAAAEwAAABcAAAAQAAAAEwAAABMAAAAWAAAAEAAAABMAAAATAAAAFgAAABAAAAATAAAAEwAAABYAAAAQAAAAEwAAABMAAAAeAAAAFHN0Y28AAAAAAAAAAQAAADAAAABidWR0YQAAAFptZXRhAAAAAAAAACFoZGxyAAAAAAAAAABtZGlyYXBwbAAAAAAAAAAAAAAAAC1pbHN0AAAAJal0b28AAAAdZGF0YQAAAAEAAAAATGF2ZjU3LjgzLjEwMA==\" type=\"video/mp4\" />\n",
              "             </video>"
            ],
            "text/plain": [
              "<IPython.core.display.HTML object>"
            ]
          },
          "metadata": {
            "tags": []
          },
          "execution_count": 80
        }
      ]
    },
    {
      "metadata": {
        "id": "DtD-RQO8oUXi",
        "colab_type": "text"
      },
      "cell_type": "markdown",
      "source": [
        "The CNN is more efficient. Both agents get stuck in back and forth, partly because they don't explore enough to see that there are a lot of remaining cheese. This behaviour is evident when the temperature is high."
      ]
    },
    {
      "metadata": {
        "id": "l4d-dk8loUXj",
        "colab_type": "text"
      },
      "cell_type": "markdown",
      "source": [
        "***\n",
        "\n",
        "The algorithm tends to not explore the map which can be an issue. We propose two ideas in order to encourage exploration:\n",
        "1. Incorporating a decreasing $\\epsilon$-greedy exploration. You can use the method ```set_epsilon```\n",
        "2. Append via the environment a new state that describes if a cell has been visited or not\n",
        "\n",
        "***\n",
        "__Question 10__ Design a new ```train_explore``` function and environment class ```EnvironmentExploring``` to tackle the issue of exploration.\n",
        "\n"
      ]
    },
    {
      "metadata": {
        "id": "lR5MiS8soUXj",
        "colab_type": "code",
        "colab": {}
      },
      "cell_type": "code",
      "source": [
        "def train_explore(agent,env,epoch,prefix=''):\n",
        "    # Number of won games\n",
        "    score = 0\n",
        "    loss = 0\n",
        "    original_epsilon = agent.epsilon\n",
        "    \n",
        "    for e in range(epoch):\n",
        "        # At each epoch, we restart to a fresh game and get the initial state\n",
        "        state = env.reset()\n",
        "        # This assumes that the games will terminate\n",
        "        game_over = False\n",
        "\n",
        "        win = 0\n",
        "        lose = 0\n",
        "        win_without_malus = 0\n",
        "        lose_without_malus = 0\n",
        "\n",
        "        ###########CHANGED\n",
        "        agent.set_epsilon(3*original_epsilon)#begin with a higher epsilon for exploration\n",
        "        ###########CHANGED\n",
        "        \n",
        "        while not game_over:\n",
        "            # The agent performs an action\n",
        "            action = agent.act(state)\n",
        "\n",
        "            # Apply an action to the environment, get the next state, the reward\n",
        "            # and if the games end\n",
        "            prev_state = state\n",
        "            \n",
        "            ###########CHANGED\n",
        "            state, reward, game_over, reward_without_malus = env.act(action, train=True)\n",
        "            agent.set_epsilon(max(agent.epsilon*0.9, original_epsilon))#decrease epsilon, but not below the original epsilon\n",
        "            \n",
        "            if reward_without_malus > 0:\n",
        "                win_without_malus = win_without_malus + reward_without_malus\n",
        "            if reward_without_malus < 0:\n",
        "                lose_without_malus = lose_without_malus -reward_without_malus\n",
        "            ###########CHANGED\n",
        "            \n",
        "            # Update the counters\n",
        "            if reward> 0:\n",
        "                win = win + reward\n",
        "            if reward < 0:\n",
        "                lose = lose -reward\n",
        "\n",
        "            # Apply the reinforcement strategy\n",
        "            loss = agent.reinforce(prev_state, state,  action, reward, game_over)\n",
        "\n",
        "        # Save as a mp4\n",
        "        if e % 10 == 0:\n",
        "          env.draw(prefix+str(e))\n",
        "\n",
        "        # Update stats\n",
        "        score += win-lose\n",
        "\n",
        "        ###########CHANGED\n",
        "        print(\"Epoch {:03d}/{:03d} | Loss {:.4f} | Win/lose without malus count {}/{} | Win/lose {}/{} ({}, {})\"\n",
        "              .format(e, epoch, loss, win_without_malus, lose_without_malus, win, lose, win_without_malus-lose_without_malus, win-lose))\n",
        "        ###########CHANGED\n",
        "        \n",
        "        agent.save(name_weights=prefix+'model.h5',name_model=prefix+'model.json')\n",
        "    env.draw(prefix)\n",
        "    ###########CHANGED\n",
        "    agent.set_epsilon(original_epsilon)\n",
        "    ###########CHANGED\n",
        "        \n",
        "class EnvironmentExploring(object):\n",
        "    def __init__(self, grid_size=10, max_time=500, temperature=0.1):\n",
        "        grid_size = grid_size+4\n",
        "        self.grid_size = grid_size\n",
        "        self.max_time = max_time\n",
        "        self.temperature = temperature\n",
        "\n",
        "        #board on which one plays\n",
        "        self.board = np.zeros((grid_size,grid_size))\n",
        "        self.position = np.zeros((grid_size,grid_size))\n",
        "        \n",
        "        ########CHANGED\n",
        "        self.malus_position = np.zeros((grid_size,grid_size))\n",
        "        ########CHANGED\n",
        "\n",
        "        # coordinate of the cat\n",
        "        self.x = 0\n",
        "        self.y = 1\n",
        "\n",
        "        # self time\n",
        "        self.t = 0\n",
        "\n",
        "        self.scale=16\n",
        "\n",
        "        self.to_draw = np.zeros((max_time+2, grid_size*self.scale, grid_size*self.scale, 3))\n",
        "\n",
        "\n",
        "    def draw(self,e):\n",
        "        skvideo.io.vwrite(str(e) + '.mp4', self.to_draw)\n",
        "\n",
        "    def get_frame(self,t):\n",
        "        b = np.zeros((self.grid_size,self.grid_size,3))+128\n",
        "        b[self.board>0,0] = 256\n",
        "        b[self.board < 0, 2] = 256\n",
        "        b[self.x,self.y,:]=256\n",
        "        b[-2:,:,:]=0\n",
        "        b[:,-2:,:]=0\n",
        "        b[:2,:,:]=0\n",
        "        b[:,:2,:]=0\n",
        "        \n",
        "        b =  cv2.resize(b, None, fx=self.scale, fy=self.scale, interpolation=cv2.INTER_NEAREST)\n",
        "\n",
        "        self.to_draw[t,:,:,:]=b\n",
        "\n",
        "\n",
        "    def act(self, action, train=False):\n",
        "        \"\"\"This function returns the new state, reward and decides if the\n",
        "        game ends.\"\"\"\n",
        "\n",
        "        self.get_frame(int(self.t))\n",
        "\n",
        "        self.position = np.zeros((self.grid_size, self.grid_size))\n",
        "\n",
        "        self.position[0:2,:]= -1\n",
        "        self.position[:,0:2] = -1\n",
        "        self.position[-2:, :] = -1\n",
        "        self.position[-2:, :] = -1\n",
        "\n",
        "        self.position[self.x, self.y] = 1\n",
        "        if action == 0:\n",
        "            if self.x == self.grid_size-3:\n",
        "                self.x = self.x-1\n",
        "            else:\n",
        "                self.x = self.x + 1\n",
        "        elif action == 1:\n",
        "            if self.x == 2:\n",
        "                self.x = self.x+1\n",
        "            else:\n",
        "                self.x = self.x-1\n",
        "        elif action == 2:\n",
        "            if self.y == self.grid_size - 3:\n",
        "                self.y = self.y - 1\n",
        "            else:\n",
        "                self.y = self.y + 1\n",
        "        elif action == 3:\n",
        "            if self.y == 2:\n",
        "                self.y = self.y + 1\n",
        "            else:\n",
        "                self.y = self.y - 1\n",
        "        else:\n",
        "            RuntimeError('Error: action not recognized')\n",
        "\n",
        "        self.t = self.t + 1\n",
        "        \n",
        "       \n",
        "        reward = self.board[self.x, self.y]\n",
        "        \n",
        "        self.board[self.x, self.y] = 0\n",
        "        game_over = self.t > self.max_time\n",
        "        \n",
        "        ########CHANGED\n",
        "        state = np.concatenate((self.malus_position.reshape(self.grid_size, self.grid_size,1),\n",
        "                                self.board.reshape(self.grid_size, self.grid_size,1),\n",
        "                        self.position.reshape(self.grid_size, self.grid_size,1)),axis=2)\n",
        "        ########CHANGED\n",
        "        \n",
        "        state = state[self.x-2:self.x+3,self.y-2:self.y+3,:]\n",
        "        \n",
        "        ########CHANGED\n",
        "        reward_without_malus = reward\n",
        "        if train:\n",
        "            reward = reward-self.malus_position[self.x, self.y]\n",
        "        self.malus_position[self.x, self.y] = 0.1\n",
        "        ########CHANGED\n",
        "\n",
        "        return state, reward, game_over, reward_without_malus\n",
        "\n",
        "    def reset(self):\n",
        "        \"\"\"This function resets the game and returns the initial state\"\"\"\n",
        "\n",
        "        self.x = np.random.randint(3, self.grid_size-3, size=1)[0]\n",
        "        self.y = np.random.randint(3, self.grid_size-3, size=1)[0]\n",
        "\n",
        "\n",
        "        bonus = 0.5*np.random.binomial(1,self.temperature,size=self.grid_size**2)\n",
        "        bonus = bonus.reshape(self.grid_size,self.grid_size)\n",
        "\n",
        "        malus = -1.0*np.random.binomial(1,self.temperature,size=self.grid_size**2)\n",
        "        malus = malus.reshape(self.grid_size, self.grid_size)\n",
        "\n",
        "        self.to_draw = np.zeros((self.max_time+2, self.grid_size*self.scale, self.grid_size*self.scale, 3))\n",
        "\n",
        "\n",
        "        malus[bonus>0]=0\n",
        "\n",
        "        self.board = bonus + malus\n",
        "\n",
        "        self.position = np.zeros((self.grid_size, self.grid_size))\n",
        "        self.position[0:2,:]= -1\n",
        "        self.position[:,0:2] = -1\n",
        "        self.position[-2:, :] = -1\n",
        "        self.position[-2:, :] = -1\n",
        "        self.board[self.x,self.y] = 0\n",
        "        \n",
        "        ########CHANGED\n",
        "        self.malus_position = np.zeros((self.grid_size,self.grid_size))\n",
        "        self.malus_position[self.x,self.y] = 0.1\n",
        "        ########CHANGED\n",
        "        \n",
        "        self.t = 0\n",
        "\n",
        "        ########CHANGED\n",
        "        state = np.concatenate((self.malus_position.reshape(self.grid_size, self.grid_size,1),\n",
        "                                self.board.reshape(self.grid_size, self.grid_size,1),\n",
        "                        self.position.reshape(self.grid_size, self.grid_size,1)),axis=2)\n",
        "        ########CHANGED\n",
        "\n",
        "        state = state[self.x - 2:self.x + 3, self.y - 2:self.y + 3, :]\n",
        "        return state"
      ],
      "execution_count": 0,
      "outputs": []
    },
    {
      "metadata": {
        "id": "OEDqTapnoUXm",
        "colab_type": "code",
        "colab": {
          "base_uri": "https://localhost:8080/",
          "height": 1851
        },
        "outputId": "42e3ed52-fee9-45aa-8be5-2788fcfed6d7"
      },
      "cell_type": "code",
      "source": [
        "# Training\n",
        "env = EnvironmentExploring(grid_size=size, max_time=T, temperature=0.3)\n",
        "agent = DQN_CNN(size, lr=.1, epsilon = 0.1, memory_size=2000, batch_size = 32,n_state=3)\n",
        "train_explore(agent, env, epochs_train, prefix='cnn_train_explore')\n",
        "HTML(display_videos('cnn_train_explore.mp4'))"
      ],
      "execution_count": 116,
      "outputs": [
        {
          "output_type": "stream",
          "text": [
            "Epoch 000/100 | Loss 0.0125 | Win/lose without malus count 6.5/13.0 | Win/lose 6.5/27.20000000000008 (-6.5, -20.70000000000008)\n",
            "Epoch 001/100 | Loss 0.0184 | Win/lose without malus count 11.5/7.0 | Win/lose 11.5/20.600000000000005 (4.5, -9.100000000000005)\n",
            "Epoch 002/100 | Loss 0.0047 | Win/lose without malus count 6.0/3.0 | Win/lose 6.0/19.100000000000005 (3.0, -13.100000000000005)\n",
            "Epoch 003/100 | Loss 0.0134 | Win/lose without malus count 12.5/3.0 | Win/lose 12.5/17.399999999999988 (9.5, -4.899999999999988)\n",
            "Epoch 004/100 | Loss 0.0137 | Win/lose without malus count 10.0/1.0 | Win/lose 10.0/16.299999999999965 (9.0, -6.299999999999965)\n",
            "Epoch 005/100 | Loss 0.0099 | Win/lose without malus count 7.0/6.0 | Win/lose 7.0/22.100000000000037 (1.0, -15.100000000000037)\n",
            "Epoch 006/100 | Loss 0.0172 | Win/lose without malus count 8.0/6.0 | Win/lose 8.0/22.100000000000037 (2.0, -14.100000000000037)\n",
            "Epoch 007/100 | Loss 0.0160 | Win/lose without malus count 15.5/5.0 | Win/lose 15.5/17.19999999999998 (10.5, -1.6999999999999815)\n",
            "Epoch 008/100 | Loss 0.0172 | Win/lose without malus count 19.0/3.0 | Win/lose 19.0/15.199999999999973 (16.0, 3.8000000000000274)\n",
            "Epoch 009/100 | Loss 0.0129 | Win/lose without malus count 17.0/3.0 | Win/lose 17.0/15.399999999999968 (14.0, 1.6000000000000316)\n",
            "Epoch 010/100 | Loss 0.0153 | Win/lose without malus count 20.0/3.0 | Win/lose 20.0/14.299999999999972 (17.0, 5.700000000000028)\n",
            "Epoch 011/100 | Loss 0.0124 | Win/lose without malus count 12.5/1.0 | Win/lose 12.5/16.599999999999966 (11.5, -4.099999999999966)\n",
            "Epoch 012/100 | Loss 0.0143 | Win/lose without malus count 16.0/2.0 | Win/lose 16.0/13.29999999999997 (14.0, 2.7000000000000295)\n",
            "Epoch 013/100 | Loss 0.0192 | Win/lose without malus count 6.0/2.0 | Win/lose 6.0/19.599999999999998 (4.0, -13.599999999999998)\n",
            "Epoch 014/100 | Loss 0.0161 | Win/lose without malus count 17.0/3.0 | Win/lose 17.0/14.399999999999968 (14.0, 2.6000000000000316)\n",
            "Epoch 015/100 | Loss 0.0137 | Win/lose without malus count 22.0/4.0 | Win/lose 22.0/14.499999999999973 (18.0, 7.500000000000027)\n",
            "Epoch 016/100 | Loss 0.0117 | Win/lose without malus count 21.5/4.0 | Win/lose 21.5/14.499999999999975 (17.5, 7.000000000000025)\n",
            "Epoch 017/100 | Loss 0.0129 | Win/lose without malus count 20.5/7.0 | Win/lose 20.5/16.19999999999998 (13.5, 4.3000000000000185)\n",
            "Epoch 018/100 | Loss 0.0183 | Win/lose without malus count 16.5/6.0 | Win/lose 16.5/18.90000000000001 (10.5, -2.4000000000000092)\n",
            "Epoch 019/100 | Loss 0.0159 | Win/lose without malus count 26.5/3.0 | Win/lose 26.5/12.899999999999972 (23.5, 13.600000000000028)\n",
            "Epoch 020/100 | Loss 0.0108 | Win/lose without malus count 21.0/7.0 | Win/lose 21.0/17.19999999999999 (14.0, 3.8000000000000114)\n",
            "Epoch 021/100 | Loss 0.0122 | Win/lose without malus count 19.5/1.0 | Win/lose 19.5/13.399999999999972 (18.5, 6.100000000000028)\n",
            "Epoch 022/100 | Loss 0.0088 | Win/lose without malus count 23.0/4.0 | Win/lose 23.0/12.79999999999998 (19.0, 10.20000000000002)\n",
            "Epoch 023/100 | Loss 0.0093 | Win/lose without malus count 20.0/7.0 | Win/lose 20.0/18.100000000000005 (13.0, 1.899999999999995)\n",
            "Epoch 024/100 | Loss 0.0136 | Win/lose without malus count 22.5/6.0 | Win/lose 22.5/14.999999999999973 (16.5, 7.500000000000027)\n",
            "Epoch 025/100 | Loss 0.0141 | Win/lose without malus count 24.0/2.0 | Win/lose 24.0/11.599999999999982 (22.0, 12.400000000000018)\n",
            "Epoch 026/100 | Loss 0.0385 | Win/lose without malus count 16.0/7.0 | Win/lose 16.0/17.5 (9.0, -1.5)\n",
            "Epoch 027/100 | Loss 0.0183 | Win/lose without malus count 15.5/3.0 | Win/lose 15.5/16.49999999999997 (12.5, -0.9999999999999716)\n",
            "Epoch 028/100 | Loss 0.0153 | Win/lose without malus count 15.5/4.0 | Win/lose 15.5/15.79999999999997 (11.5, -0.2999999999999705)\n",
            "Epoch 029/100 | Loss 0.0114 | Win/lose without malus count 17.5/4.0 | Win/lose 17.5/16.699999999999974 (13.5, 0.8000000000000256)\n",
            "Epoch 030/100 | Loss 0.0119 | Win/lose without malus count 22.0/2.0 | Win/lose 22.0/12.299999999999976 (20.0, 9.700000000000024)\n",
            "Epoch 031/100 | Loss 0.0113 | Win/lose without malus count 23.0/5.0 | Win/lose 23.0/16.299999999999972 (18.0, 6.700000000000028)\n",
            "Epoch 032/100 | Loss 0.0087 | Win/lose without malus count 21.5/3.0 | Win/lose 21.5/12.399999999999977 (18.5, 9.100000000000023)\n",
            "Epoch 033/100 | Loss 0.0111 | Win/lose without malus count 16.0/7.0 | Win/lose 16.0/18.60000000000001 (9.0, -2.6000000000000085)\n",
            "Epoch 034/100 | Loss 0.0182 | Win/lose without malus count 18.0/4.0 | Win/lose 18.0/15.299999999999965 (14.0, 2.700000000000035)\n",
            "Epoch 035/100 | Loss 0.0200 | Win/lose without malus count 16.0/3.0 | Win/lose 16.0/15.59999999999996 (13.0, 0.40000000000003944)\n",
            "Epoch 036/100 | Loss 0.0158 | Win/lose without malus count 22.0/5.0 | Win/lose 22.0/14.999999999999977 (17.0, 7.000000000000023)\n",
            "Epoch 037/100 | Loss 0.0171 | Win/lose without malus count 23.0/2.0 | Win/lose 23.0/11.799999999999976 (21.0, 11.200000000000024)\n",
            "Epoch 038/100 | Loss 0.0132 | Win/lose without malus count 20.5/3.0 | Win/lose 20.5/11.799999999999985 (17.5, 8.700000000000015)\n",
            "Epoch 039/100 | Loss 0.0292 | Win/lose without malus count 17.0/5.0 | Win/lose 17.0/14.399999999999974 (12.0, 2.6000000000000263)\n",
            "Epoch 040/100 | Loss 0.0198 | Win/lose without malus count 18.5/10.0 | Win/lose 18.5/20.100000000000005 (8.5, -1.600000000000005)\n",
            "Epoch 041/100 | Loss 0.0560 | Win/lose without malus count 31.5/3.0 | Win/lose 31.5/10.599999999999982 (28.5, 20.90000000000002)\n",
            "Epoch 042/100 | Loss 0.0164 | Win/lose without malus count 22.0/6.0 | Win/lose 22.0/14.899999999999974 (16.0, 7.100000000000026)\n",
            "Epoch 043/100 | Loss 0.0269 | Win/lose without malus count 23.5/3.0 | Win/lose 23.5/11.39999999999998 (20.5, 12.10000000000002)\n",
            "Epoch 044/100 | Loss 0.0252 | Win/lose without malus count 21.5/3.0 | Win/lose 21.5/13.099999999999973 (18.5, 8.400000000000027)\n",
            "Epoch 045/100 | Loss 0.0178 | Win/lose without malus count 26.0/4.0 | Win/lose 26.0/12.89999999999998 (22.0, 13.10000000000002)\n",
            "Epoch 046/100 | Loss 0.0139 | Win/lose without malus count 23.0/3.0 | Win/lose 23.0/12.599999999999975 (20.0, 10.400000000000025)\n",
            "Epoch 047/100 | Loss 0.0188 | Win/lose without malus count 27.0/3.0 | Win/lose 27.0/10.299999999999983 (24.0, 16.700000000000017)\n",
            "Epoch 048/100 | Loss 0.0560 | Win/lose without malus count 20.5/8.0 | Win/lose 20.5/17.899999999999984 (12.5, 2.6000000000000156)\n",
            "Epoch 049/100 | Loss 0.0197 | Win/lose without malus count 23.5/2.0 | Win/lose 23.5/10.499999999999979 (21.5, 13.000000000000021)\n",
            "Epoch 050/100 | Loss 0.0181 | Win/lose without malus count 20.0/3.0 | Win/lose 20.0/14.699999999999967 (17.0, 5.300000000000033)\n",
            "Epoch 051/100 | Loss 0.0208 | Win/lose without malus count 21.5/6.0 | Win/lose 21.5/17.099999999999987 (15.5, 4.400000000000013)\n",
            "Epoch 052/100 | Loss 0.0149 | Win/lose without malus count 24.5/3.0 | Win/lose 24.5/11.79999999999998 (21.5, 12.70000000000002)\n",
            "Epoch 053/100 | Loss 0.0084 | Win/lose without malus count 18.5/7.0 | Win/lose 18.5/17.599999999999987 (11.5, 0.9000000000000128)\n",
            "Epoch 054/100 | Loss 0.0213 | Win/lose without malus count 26.0/7.0 | Win/lose 26.0/15.499999999999975 (19.0, 10.500000000000025)\n",
            "Epoch 055/100 | Loss 0.0153 | Win/lose without malus count 13.5/4.0 | Win/lose 13.5/18.700000000000003 (9.5, -5.200000000000003)\n",
            "Epoch 056/100 | Loss 0.0174 | Win/lose without malus count 15.0/3.0 | Win/lose 15.0/16.399999999999967 (12.0, -1.3999999999999666)\n",
            "Epoch 057/100 | Loss 0.0148 | Win/lose without malus count 16.5/3.0 | Win/lose 16.5/14.899999999999967 (13.5, 1.6000000000000334)\n",
            "Epoch 058/100 | Loss 0.0464 | Win/lose without malus count 24.0/3.0 | Win/lose 24.0/12.099999999999973 (21.0, 11.900000000000027)\n",
            "Epoch 059/100 | Loss 0.0541 | Win/lose without malus count 10.5/2.0 | Win/lose 10.5/17.49999999999998 (8.5, -6.999999999999979)\n",
            "Epoch 060/100 | Loss 0.0182 | Win/lose without malus count 12.0/6.0 | Win/lose 12.0/18.90000000000001 (6.0, -6.900000000000009)\n",
            "Epoch 061/100 | Loss 0.0197 | Win/lose without malus count 23.5/5.0 | Win/lose 23.5/15.399999999999972 (18.5, 8.100000000000028)\n",
            "Epoch 062/100 | Loss 0.0184 | Win/lose without malus count 18.5/3.0 | Win/lose 18.5/13.79999999999997 (15.5, 4.7000000000000295)\n",
            "Epoch 063/100 | Loss 0.0352 | Win/lose without malus count 19.0/9.0 | Win/lose 19.0/19.19999999999999 (10.0, -0.19999999999998863)\n",
            "Epoch 064/100 | Loss 0.0173 | Win/lose without malus count 20.5/7.0 | Win/lose 20.5/16.799999999999983 (13.5, 3.700000000000017)\n",
            "Epoch 065/100 | Loss 0.0346 | Win/lose without malus count 17.5/6.0 | Win/lose 17.5/16.39999999999997 (11.5, 1.1000000000000298)\n",
            "Epoch 066/100 | Loss 0.0281 | Win/lose without malus count 15.5/4.0 | Win/lose 15.5/16.899999999999974 (11.5, -1.3999999999999737)\n",
            "Epoch 067/100 | Loss 0.0128 | Win/lose without malus count 15.0/6.0 | Win/lose 15.0/18.19999999999998 (9.0, -3.1999999999999815)\n",
            "Epoch 068/100 | Loss 0.0278 | Win/lose without malus count 25.5/3.0 | Win/lose 25.5/11.799999999999981 (22.5, 13.700000000000019)\n",
            "Epoch 069/100 | Loss 0.0256 | Win/lose without malus count 20.0/1.0 | Win/lose 20.0/11.299999999999976 (19.0, 8.700000000000024)\n",
            "Epoch 070/100 | Loss 0.0161 | Win/lose without malus count 23.0/5.0 | Win/lose 23.0/14.299999999999972 (18.0, 8.700000000000028)\n",
            "Epoch 071/100 | Loss 0.0164 | Win/lose without malus count 16.5/8.0 | Win/lose 16.5/17.399999999999984 (8.5, -0.8999999999999844)\n",
            "Epoch 072/100 | Loss 0.0194 | Win/lose without malus count 20.5/3.0 | Win/lose 20.5/13.99999999999997 (17.5, 6.50000000000003)\n",
            "Epoch 073/100 | Loss 0.0268 | Win/lose without malus count 22.5/7.0 | Win/lose 22.5/15.299999999999974 (15.5, 7.200000000000026)\n",
            "Epoch 074/100 | Loss 0.0260 | Win/lose without malus count 19.0/6.0 | Win/lose 19.0/16.999999999999982 (13.0, 2.0000000000000178)\n",
            "Epoch 075/100 | Loss 0.0181 | Win/lose without malus count 24.5/6.0 | Win/lose 24.5/13.999999999999982 (18.5, 10.500000000000018)\n",
            "Epoch 076/100 | Loss 0.0142 | Win/lose without malus count 21.5/4.0 | Win/lose 21.5/14.099999999999975 (17.5, 7.400000000000025)\n",
            "Epoch 077/100 | Loss 0.0206 | Win/lose without malus count 15.0/5.0 | Win/lose 15.0/18.5 (10.0, -3.5)\n",
            "Epoch 078/100 | Loss 0.0176 | Win/lose without malus count 24.0/5.0 | Win/lose 24.0/13.699999999999978 (19.0, 10.300000000000022)\n",
            "Epoch 079/100 | Loss 0.0202 | Win/lose without malus count 26.0/11.0 | Win/lose 26.0/20.39999999999999 (15.0, 5.6000000000000085)\n",
            "Epoch 080/100 | Loss 0.0147 | Win/lose without malus count 10.5/4.0 | Win/lose 10.5/19.100000000000005 (6.5, -8.600000000000005)\n",
            "Epoch 081/100 | Loss 0.0153 | Win/lose without malus count 21.0/5.0 | Win/lose 21.0/13.09999999999998 (16.0, 7.90000000000002)\n",
            "Epoch 082/100 | Loss 0.0110 | Win/lose without malus count 18.0/4.0 | Win/lose 18.0/13.399999999999975 (14.0, 4.6000000000000245)\n",
            "Epoch 083/100 | Loss 0.0150 | Win/lose without malus count 18.5/3.0 | Win/lose 18.5/14.899999999999967 (15.5, 3.6000000000000334)\n",
            "Epoch 084/100 | Loss 0.0222 | Win/lose without malus count 29.0/7.0 | Win/lose 29.0/14.99999999999998 (22.0, 14.00000000000002)\n",
            "Epoch 085/100 | Loss 0.0202 | Win/lose without malus count 12.5/2.0 | Win/lose 12.5/15.299999999999962 (10.5, -2.7999999999999616)\n",
            "Epoch 086/100 | Loss 0.0224 | Win/lose without malus count 20.0/5.0 | Win/lose 20.0/14.899999999999975 (15.0, 5.1000000000000245)\n",
            "Epoch 087/100 | Loss 0.0182 | Win/lose without malus count 22.5/7.0 | Win/lose 22.5/15.599999999999984 (15.5, 6.900000000000016)\n",
            "Epoch 088/100 | Loss 0.0185 | Win/lose without malus count 25.0/7.0 | Win/lose 25.0/15.799999999999978 (18.0, 9.200000000000022)\n",
            "Epoch 089/100 | Loss 0.0303 | Win/lose without malus count 18.5/7.0 | Win/lose 18.5/14.89999999999998 (11.5, 3.600000000000019)\n",
            "Epoch 090/100 | Loss 0.0382 | Win/lose without malus count 29.5/7.0 | Win/lose 29.5/14.499999999999986 (22.5, 15.000000000000014)\n",
            "Epoch 091/100 | Loss 0.0171 | Win/lose without malus count 26.0/8.0 | Win/lose 26.0/16.899999999999988 (18.0, 9.100000000000012)\n",
            "Epoch 092/100 | Loss 0.0198 | Win/lose without malus count 19.5/5.0 | Win/lose 19.5/16.099999999999966 (14.5, 3.400000000000034)\n",
            "Epoch 093/100 | Loss 0.0761 | Win/lose without malus count 23.5/5.0 | Win/lose 23.5/14.899999999999977 (18.5, 8.600000000000023)\n",
            "Epoch 094/100 | Loss 0.0241 | Win/lose without malus count 21.0/7.0 | Win/lose 21.0/16.299999999999976 (14.0, 4.700000000000024)\n",
            "Epoch 095/100 | Loss 0.0186 | Win/lose without malus count 13.5/6.0 | Win/lose 13.5/16.599999999999977 (7.5, -3.0999999999999766)\n",
            "Epoch 096/100 | Loss 0.0231 | Win/lose without malus count 24.0/11.0 | Win/lose 24.0/18.30000000000002 (13.0, 5.6999999999999815)\n",
            "Epoch 097/100 | Loss 0.0227 | Win/lose without malus count 22.0/5.0 | Win/lose 22.0/14.799999999999974 (17.0, 7.200000000000026)\n",
            "Epoch 098/100 | Loss 0.0173 | Win/lose without malus count 19.5/7.0 | Win/lose 19.5/16.799999999999983 (12.5, 2.700000000000017)\n",
            "Epoch 099/100 | Loss 0.0160 | Win/lose without malus count 21.5/6.0 | Win/lose 21.5/15.199999999999973 (15.5, 6.300000000000027)\n"
          ],
          "name": "stdout"
        },
        {
          "output_type": "execute_result",
          "data": {
            "text/html": [
              "<video alt=\"test\" controls>\n",
              "                <source src=\"data:video/mp4;base64,AAAAIGZ0eXBpc29tAAACAGlzb21pc28yYXZjMW1wNDEAAAAIZnJlZQAAGLltZGF0AAACrQYF//+p3EXpvebZSLeWLNgg2SPu73gyNjQgLSBjb3JlIDE1MiByMjg1NCBlOWE1OTAzIC0gSC4yNjQvTVBFRy00IEFWQyBjb2RlYyAtIENvcHlsZWZ0IDIwMDMtMjAxNyAtIGh0dHA6Ly93d3cudmlkZW9sYW4ub3JnL3gyNjQuaHRtbCAtIG9wdGlvbnM6IGNhYmFjPTEgcmVmPTMgZGVibG9jaz0xOjA6MCBhbmFseXNlPTB4MToweDExMSBtZT1oZXggc3VibWU9NyBwc3k9MSBwc3lfcmQ9MS4wMDowLjAwIG1peGVkX3JlZj0xIG1lX3JhbmdlPTE2IGNocm9tYV9tZT0xIHRyZWxsaXM9MSA4eDhkY3Q9MCBjcW09MCBkZWFkem9uZT0yMSwxMSBmYXN0X3Bza2lwPTEgY2hyb21hX3FwX29mZnNldD00IHRocmVhZHM9MyBsb29rYWhlYWRfdGhyZWFkcz0xIHNsaWNlZF90aHJlYWRzPTAgbnI9MCBkZWNpbWF0ZT0xIGludGVybGFjZWQ9MCBibHVyYXlfY29tcGF0PTAgY29uc3RyYWluZWRfaW50cmE9MCBiZnJhbWVzPTMgYl9weXJhbWlkPTIgYl9hZGFwdD0xIGJfYmlhcz0wIGRpcmVjdD0xIHdlaWdodGI9MSBvcGVuX2dvcD0wIHdlaWdodHA9MiBrZXlpbnQ9MjUwIGtleWludF9taW49MjUgc2NlbmVjdXQ9NDAgaW50cmFfcmVmcmVzaD0wIHJjX2xvb2thaGVhZD00MCByYz1jcmYgbWJ0cmVlPTEgY3JmPTIzLjAgcWNvbXA9MC42MCBxcG1pbj0wIHFwbWF4PTY5IHFwc3RlcD00IGlwX3JhdGlvPTEuNDAgYXE9MToxLjAwAIAAAALTZYiEADP//vaG+BTYUyP+T7/8I/+5H7cfWfrixkIJvrVeQ9GAMl8a/5lGYaXpyc8t7R+vTNAEZz8ZS8pZp9o/ApmtrL5lb/cBMbKtQAljameJRa0CxUKKCbYbadG9z/cxqliftJjOcvnn1iJWZucqqvqbIop2PA918iox1wNvMBU+CCPk7/VAvieaJ/5Q3oZDV4zPlD8K3VeukhjLXWEzkcuJd9R5HdNKYbWvm+VlxaEeDXQApfy6I4JJNWEadRjgZ9Vjzen5xxjhY85d5F4xXY+i43tQUmRn+rgxXi+LtNStw5xxziTprMevW7lXwr2wQ4APXLCCCareUKynK9ezBlYlHJiI25NGd8Mz0V02ykehgNE0U/oE5J8qtcp22iP0SUcutv1YIB+S6CRT3mxatkqggpcebmmXy7AxZkiLRFxBHfA3ZeEueMch3DTuCKUgGXy/svh977Gwht2cWlHFR3BHFKnBkahQvgN4ldwvNQ5ZkH0YbyWCuKReqPgqRQzbatkc9GAU1ldUyMGEfaf6JIcdzBayiLxcVzcYVmAN/jfmwVWBlTtsr+jGNnAd9AKD5jiHf2GJ4o39dgjipx4/WApJywngsUj4VdVbOBA1Pbl2B3448iQhKPa0rUTCjv03vI/H88amapooXfLCVhpGbgV7VgwARiXbYldrOtwsnvyJ7AJ7gI89BWsmaFNj6/z+eNq6lUHJ/mcLYsDBFUV0FXnecgESpoPEOs8A0tkIJAx7HLiCLJGkhBUJR47cEfIIFyiroFu1wnEZYjUpImsB5OHh5TIS6COLwmSQKC88hYVSBtNt9Fa4304NPjTKJdShDRH3+alzVKmuZAIRB1Ca0YrS05R8JivpUoOKkRCfkO+5NFZCElcr2f62HutVhqmRMrSKb3lYBGJNywbDj1fCPa66EG6q00DKykh9ACaCMB4EzLYjsuEUgRXAGY9TofxnwAM3AAAAFUGaIWxDP/6eEABueCOfogEDNeN5QAAAABlBmkI8IZMphDP//p4QAKxwY5/DnxA4f4VBAAAAF0GaY0nhDyZTAhv//qeEAC1YrR1UNtwTAAAAGUGahEnhDyZTAhv//qeEAC2e6n6jjQkOScEAAAAeQZqoSeEPJlMCGf/+nhAAdH19+m16fXI3ZrnK1LaRAAAAEUGexkURPC//ABHZ77dV69K5AAAADwGe5XRCvwAYh5N55xdPgQAAABABnudqQr8AF+Jkmm+kg50wAAAAGUGa6UmoQWiZTAhv//6nhAAT3FaQQif5brsAAAAeQZsLSeEKUmUwURLDf/6nhAAUj40/HbeImZqbdIc3AAAAEAGfKmpCvwAQXNG80xVtbUAAAAAZQZssSeEOiZTAhv/+p4QADT+wf4Tgt0KsQAAAABhBm09J4Q8mUwIZ//6eEAAhohx/PBfySJ0AAAASQZ9tRRE8K/8ABxWYvYWC/StBAAAAEAGfjmpCvwAHFZ4F1+sU0MEAAAAZQZuQSahBaJlMCGf//p4QACHfEP7ZDH1ilQAAABhBm7FJ4QpSZTAhv/6nhAAFzxWkEIn+XGsAAAAZQZvSSeEOiZTAhv/+p4QABfXVo6PuNmDE0QAAAB5Bm/ZJ4Q8mUwIb//6nhAAGJ+AwHN+dR+ImZqbdIn8AAAAQQZ4URRE8L/8AA5/2hQ9/UAAAABABnjN0Qr8ABPrR3lbKHxmBAAAADwGeNWpCvwADOWIHkwT4gAAAACJBmjlJqEFomUwIZ//+nhAAON7I6vMss+fbbIY5+hvnuubxAAAAE0GeV0URLCv/AAvztTb7yeAZEeEAAAAQAZ54akK/AAvztRyv7cQ2QAAAABlBmnpJqEFsmUwIZ//+nhAAWHgxz+HOb649AAAAG0Gam0nhClJlMCG//qeEACKoAs220BgE1/dkcAAAABhBmrxJ4Q6JlMCG//6nhAA19In+pSAVacEAAAAbQZrASeEPJlMCGf/+nhAA0/r79Nr3NP/QIbJBAAAAFUGe/kURPC//ADEJJfmbcTOteB3XaQAAABABnx10Qr8AQ4QBztjjTSKgAAAADwGfH2pCvwBBZXIq8AT/KwAAABpBmwFJqEFomUwIb//+p4QAId8dPqONCQ5iwAAAABtBmyRJ4QpSZTAhn/6eEABYa9xoXTfdZ+jaUIEAAAASQZ9CRTRMK/8AEl2K9hYL84KAAAAADgGfY2pCvwASXZMecEYVAAAAGUGbZUmoQWiZTAhn//6eEABaq9xoXTfdcd0AAAAYQZuGSeEKUmUwIZ/+nhAAipwjn8Own1svAAAAGUGbp0nhDomUwIb//qeEADc0if6rgMfiO6EAAAAdQZvJSeEPJlMFETwz//6eEAH7Kdrf4dhPqyu5tKgAAAAQAZ/oakK/AGwdqOV/bh9nwAAAABlBm+pJ4Q8mUwIb//6nhADM0if6rgMfiD/BAAAAGUGaC0nhDyZTAhv//qeEATxAFm2xGF8zR8AAAAAcQZouSeEPJlMCG//+p4QCiKIAePJxPJun9jNZQAAAABJBnkxFETwr/wGThpd3f0isY0EAAAAOAZ5takK/AZMlxmDgYxsAAAAZQZpvSahBaJlMCG///qeEATX6OaCtZlNZFwAAABpBmpJJ4QpSZTAhn/6eEASX5zZ1ugYu63lhUwAAABJBnrBFNEwr/wDygwCAUwDj96AAAAAQAZ7RakK/AO0z5jdDkg4oOQAAABxBmtNJqEFomUwIb//+p4QCIhBZtkk/QQz9MIuAAAAAGEGa9EnhClJlMCG//qeECKyJ/pmhxybBFwAAABlBmxdJ4Q6JlMCGf/6eECPb+/UvOKqQZYtpAAAAEUGfNUURPCv/AnYeDXHqZGcXAAAADgGfVmpCvwJ1Z1AgKpxdAAAAGUGbWEmoQWiZTAhv//6nhAIp46Y/w+qU8g8AAAAZQZt5SeEKUmUwIb/+p4QCC+On0dChIUjugAAAABlBm5xJ4Q6JlMCGf/6eEAexQs0/v3Sruau7AAAAEkGfukURPCv/AWyx4EJGP251wAAAAA4Bn9tqQr8BbLHrp+pTrwAAABlBm91JqEFomUwIZ//+nhAHx6C51ugYN4spAAAAHkGb/0nhClJlMFESwz/+nhAHb7+/TA+QU7riPqZHVAAAABABnh5qQr8BY2vnOtDC8OVAAAAAGEGaAEnhDomUwIZ//p4QBBfiHnW6BkhlxQAAABhBmiFJ4Q8mUwIZ//6eEAa5Bjn7M1H0kxYAAAAZQZpCSeEPJlMCG//+p4QFj0T/T2sx9hzpgQAAAB5BmmRJ4Q8mUwURPDP//p4QFL4nfHXd/GzpGxUcUHAAAAAQAZ6DakK/AgrXznWeODJtwQAAABhBmoVJ4Q8mUwIZ//6eEAaHumxlybJYx3UAAAAYQZqmSeEPJlMCG//+p4QBofGnQVrMl7lTAAAAG0Gax0nhDyZTAhv//qeEAZH0ugQnr2Z8C3qPgQAAAB9BmulJ4Q8mUwURPDv//qmWAMR48/i9pH1QshTDA1BAAAAAEAGfCGpCvwEuldFVnH4DIGAAAAAbQZsNSeEPJlMCG//+p4QBf6DfE/xtXmzgboofAAAAEUGfK0URPC//ANyqaGlz+70CAAAADwGfSnRCvwC+xjFwH5aS4AAAAA8Bn0xqQr8BLtiPJgevbQ8AAAAcQZtQSahBaJlMCGf//p4QDkg45+YJggKZ+XTrgQAAABJBn25FESwr/wHSH30LckVQ44EAAAAQAZ+PakK/AdIeDyYHr2yygAAAAB5Bm5JJqEFsmUwUTDP//p4QD2U459NR9g9KViFg44AAAAAQAZ+xakK/Ad8PBrjwps6vIQAAABhBm7NJ4QpSZTAhn/6eEAYLxD+zMx9Xyk4AAAAYQZvUSeEOiZTAhn/+nhADtevv5EiPrCHHAAAAGUGb9UnhDyZTAhv//qeEAJ98dPqONCQ4VMEAAAAdQZoXSeEPJlMFETwz//6eEAGT9ff02ULl1s1bI+AAAAAQAZ42akK/AFQbdFVnH4DdUQAAABlBmjhJ4Q8mUwIb//6nhAA/vsH+E4LdCVlBAAAAGUGaWUnhDyZTAhv//qeEACo+6n6jjQkOUEAAAAAfQZp9SeEPJlMCGf/+nhAAaf19+m17x+nL4ip91uHZIQAAABFBnptFETwv/wAP4mrhBruqDAAAAA8Bnrp0Qr8AFijCAyS5w4EAAAAQAZ68akK/ABYm5DD6AkHPaQAAABlBmr5JqEFomUwIZ//+nhAARb4h/bIY+sOLAAAAGUGa30nhClJlMCG//qeEAAuvup+o40JDx8AAAAAZQZrgSeEOiZTAhv/+p4QAB3PYP8JwW6F/QQAAACBBmwRJ4Q8mUwIZ//6eEAAef19/QsWc8yyz59vbqhmYOAAAABFBnyJFETwv/wAEtz7c25nf8QAAAA8Bn0F0Qr8ABBfMGDZji0YAAAAPAZ9DakK/AAZxK2MKzgRBAAAAGUGbRUmoQWiZTAhn//6eEAAT/3TfRUrNfpcAAAAYQZtmSeEKUmUwIb/+p4QAA0/sHr2Z8Ea5AAAAGkGbiEnhDomUwU0TDP/+nhAAE+B+9tfX33RFAAAADwGfp2pCvwAEF2I8mB6+5wAAABhBm6lJ4Q8mUwIZ//6eEAAUavcaF033YKwAAAAdQZvLSeEPJlMFETwz//6eEAAfr1yN2OGlvv77jOEAAAAQAZ/qakK/AAbB2pbhs2sYgAAAABhBm+xJ4Q8mUwIZ//6eEAAyMhjn8Oc318kAAAAYQZoNSeEPJlMCGf/+nhAAMn6+7tObuLrdAAAAGEGaLknhDyZTAhn//p4QAEtOEc/hzm+ufwAAABhBmk9J4Q8mUwIZ//6eEABzynHP4c5vrdMAAAAZQZpwSeEPJlMCG//+p4QALn6J/qt8x+JHwAAAABlBmpFJ4Q8mUwIb//6nhABHUAWbbZ9nzVBAAAAAG0GatUnhDyZTAhn//p4QAaVfdcRz+kdff0vwoQAAABBBntNFETwv/wA/idRvYI9MAAAADwGe8nRCvwA7bYGuvi2pgAAAABABnvRqQr8AWtRomRNKzdtBAAAAGkGa9kmoQWiZTAhv//6nhACneif6rfMfiFBAAAAAHkGbGEnhClJlMFESw3/+p4QAp4J/5j9fw8UuQ3oZQQAAABABnzdqQr8AhsnznWhheL+BAAAAHEGbOknhDomUwUTDf/6nhABp/YP85Trwo1uY8LgAAAAQAZ9ZakK/AFZa+c60MLyHwQAAABhBm1tJ4Q8mUwIb//6nhABBvjpj/D6tt3kAAAAZQZt8SeEPJlMCHf/+qZYAMpUgzQB6S+wIsQAAABpBm59J4Q8mUwId//6plgAy3wo9+y8tjk+FwQAAABJBn71FETwr/wBR2vnOsnybyoAAAAAQAZ/eakK/AE+bkMPoCQccqAAAABxBm8NJqEFomUwId//+qZYAID8efy7PahZClz7HAAAAEEGf4UURLC//ACa0BmusT8AAAAAQAZ4AdEK/ADTAHxSbZKr5gQAAAA8BngJqQr8AIa80TUlOboAAAAAcQZoHSahBbJlMCHf//qmWABS/fV98YVAtFMQ2pwAAABBBniVFFSwv/wAYgRxncrDhAAAAEAGeRHRCvwAgrtSeV+Sm4LEAAAAPAZ5GakK/ABYuUDyYI3uBAAAAE0GaS0moQWyZTAh3//6plgAAlYAAAAAMQZ5pRRUsL/8AALKAAAAADwGeiHRCvwAV6yjiOy7LhwAAAA8BnopqQr8AFeso3WerPscAAAATQZqPSahBbJlMCHf//qmWAACVgAAAAAxBnq1FFSwv/wAAsoEAAAAPAZ7MdEK/ABXrKOI7LsuHAAAADwGezmpCvwAV6yjdZ6s+xwAAABNBmtNJqEFsmUwId//+qZYAAJWAAAAADEGe8UUVLC//AACygAAAAA8BnxB0Qr8AFeso4jsuy4cAAAAPAZ8SakK/ABXrKN1nqz7HAAAAE0GbF0moQWyZTAh3//6plgAAlYAAAAAMQZ81RRUsL/8AALKBAAAADwGfVHRCvwAV6yjiOy7LhwAAAA8Bn1ZqQr8AFeso3WerPscAAAASQZtbSahBbJlMCG///qeEAAEnAAAADEGfeUUVLC//AACygAAAAA8Bn5h0Qr8AFeso4jsuy4cAAAAPAZ+aakK/ABXrKN1nqz7HAAAAHUGbnUmoQWyZTBRMN//+p4QAGx9g/zyCtUyEi4GZAAAAEAGfvGpCvwAWulG80xVtVWEAAAAZQZu+SeEKUmUwId/+qZYACQ/Hn79kG4qd4AAAAB1Bm8JJ4Q6JlMCHf/6plgAF499Xv83eoKhZCl/WoAAAABBBn+BFETwv/wAG6D0Ps04xAAAAEAGeH3RCvwAJa6tGSW/2N4AAAAAQAZ4BakK/AAktrXdZDDmtgQAAACJBmgZJqEFomUwId//+qZYAA6ntL9stA4f3XLTVnKDcW9FAAAAAEUGeJEURLC//AARWetVc0yfBAAAAEAGeQ3RCvwAF+AADJLf7RMEAAAAPAZ5FakK/AAPLzhsDlVuBAAAAGkGaSkmoQWyZTAh3//6plgADpNUB/vtL7weBAAAAEEGeaEUVLC//AARXP2bgknAAAAAPAZ6HdEK/AAO2X4uA/QPAAAAAEAGeiWpCvwAF+dU8mB6+iYEAAAATQZqOSahBbJlMCHf//qmWAACVgAAAAAxBnqxFFSwv/wAAsoAAAAAQAZ7LdEK/AAXnOTiOy7OUgQAAAA8Bns1qQr8ABec5N1nq0OkAAAATQZrSSahBbJlMCHf//qmWAACVgQAAAAxBnvBFFSwv/wAAsoAAAAAQAZ8PdEK/AAXnOTiOy7OUgAAAAA8BnxFqQr8ABec5N1nq0OkAAAATQZsWSahBbJlMCHf//qmWAACVgAAAAAxBnzRFFSwv/wAAsoAAAAAQAZ9TdEK/AAXnOTiOy7OUgQAAAA8Bn1VqQr8ABec5N1nq0OkAAAATQZtaSahBbJlMCHf//qmWAACVgQAAAAxBn3hFFSwv/wAAsoEAAAAQAZ+XdEK/AAXnOTiOy7OUgAAAAA8Bn5lqQr8ABec5N1nq0OkAAAATQZueSahBbJlMCHf//qmWAACVgAAAAAxBn7xFFSwv/wAAsoEAAAAQAZ/bdEK/AAXnOTiOy7OUgQAAAA8Bn91qQr8ABec5N1nq0OkAAAASQZvCSahBbJlMCG///qeEAAEnAAAADEGf4EUVLC//AACygQAAABABnh90Qr8ABec5OI7Ls5SAAAAADwGeAWpCvwAF5zk3WerQ6QAAABJBmgZJqEFsmUwIZ//+nhAABHwAAAAMQZ4kRRUsL/8AALKBAAAAEAGeQ3RCvwAF5zk4jsuzlIEAAAAPAZ5FakK/AAXnOTdZ6tDpAAAAGkGaSUuoQhBbJEYIKAfyAf2HgCFf/jhAABFxAAAAJ0GeZ0UVLCv/Aq9j7UHE3arDSSblqoYHLLW7zSogmjxkMSa4KlrieAAAACIBnohqQr8Cr2PtQcTdqsNJJuWqhgcstbvNKiCaPGo8Na1DAAALUG1vb3YAAABsbXZoZAAAAAAAAAAAAAAAAAAAA+gAAB+QAAEAAAEAAAAAAAAAAAAAAAABAAAAAAAAAAAAAAAAAAAAAQAAAAAAAAAAAAAAAAAAQAAAAAAAAAAAAAAAAAAAAAAAAAAAAAAAAAAAAAAAAAIAAAp6dHJhawAAAFx0a2hkAAAAAwAAAAAAAAAAAAAAAQAAAAAAAB+QAAAAAAAAAAAAAAAAAAAAAAABAAAAAAAAAAAAAAAAAAAAAQAAAAAAAAAAAAAAAAAAQAAAAAEQAAABEAAAAAAAJGVkdHMAAAAcZWxzdAAAAAAAAAABAAAfkAAABAAAAQAAAAAJ8m1kaWEAAAAgbWRoZAAAAAAAAAAAAAAAAAAAMgAAAZQAVcQAAAAAAC1oZGxyAAAAAAAAAAB2aWRlAAAAAAAAAAAAAAAAVmlkZW9IYW5kbGVyAAAACZ1taW5mAAAAFHZtaGQAAAABAAAAAAAAAAAAAAAkZGluZgAAABxkcmVmAAAAAAAAAAEAAAAMdXJsIAAAAAEAAAldc3RibAAAAJVzdHNkAAAAAAAAAAEAAACFYXZjMQAAAAAAAAABAAAAAAAAAAAAAAAAAAAAAAEQARAASAAAAEgAAAAAAAAAAQAAAAAAAAAAAAAAAAAAAAAAAAAAAAAAAAAAAAAAAAAAABj//wAAAC9hdmNDAfQADf/hABdn9AANkZsoIhHQgAAAAwCAAAAZB4oUywEABWjr48RIAAAAGHN0dHMAAAAAAAAAAQAAAMoAAAIAAAAAFHN0c3MAAAAAAAAAAQAAAAEAAAUoY3R0cwAAAAAAAACjAAAABQAABAAAAAABAAAKAAAAAAEAAAQAAAAAAQAAAAAAAAABAAACAAAAAAEAAAQAAAAAAQAABgAAAAABAAACAAAAAAEAAAQAAAAAAQAACAAAAAACAAACAAAAAAMAAAQAAAAAAQAACgAAAAABAAAEAAAAAAEAAAAAAAAAAQAAAgAAAAABAAAIAAAAAAIAAAIAAAAAAwAABAAAAAABAAAKAAAAAAEAAAQAAAAAAQAAAAAAAAABAAACAAAAAAEAAAQAAAAAAQAACAAAAAACAAACAAAAAAMAAAQAAAAAAQAABgAAAAABAAACAAAAAAIAAAQAAAAAAQAACAAAAAACAAACAAAAAAEAAAQAAAAAAQAACAAAAAACAAACAAAAAAIAAAQAAAAAAQAACAAAAAACAAACAAAAAAIAAAQAAAAAAQAACAAAAAACAAACAAAAAAEAAAQAAAAAAQAABgAAAAABAAACAAAAAAMAAAQAAAAAAQAABgAAAAABAAACAAAAAAMAAAQAAAAAAQAABgAAAAABAAACAAAAAAEAAAoAAAAAAQAABAAAAAABAAAAAAAAAAEAAAIAAAAAAQAACAAAAAACAAACAAAAAAEAAAYAAAAAAQAAAgAAAAADAAAEAAAAAAEAAAYAAAAAAQAAAgAAAAACAAAEAAAAAAEAAAoAAAAAAQAABAAAAAABAAAAAAAAAAEAAAIAAAAAAwAABAAAAAABAAAKAAAAAAEAAAQAAAAAAQAAAAAAAAABAAACAAAAAAIAAAQAAAAAAQAABgAAAAABAAACAAAAAAEAAAQAAAAAAQAABgAAAAABAAACAAAAAAYAAAQAAAAAAQAACgAAAAABAAAEAAAAAAEAAAAAAAAAAQAAAgAAAAABAAAEAAAAAAEAAAYAAAAAAQAAAgAAAAABAAAGAAAAAAEAAAIAAAAAAgAABAAAAAABAAAIAAAAAAIAAAIAAAAAAQAACgAAAAABAAAEAAAAAAEAAAAAAAAAAQAAAgAAAAABAAAKAAAAAAEAAAQAAAAAAQAAAAAAAAABAAACAAAAAAEAAAoAAAAAAQAABAAAAAABAAAAAAAAAAEAAAIAAAAAAQAACgAAAAABAAAEAAAAAAEAAAAAAAAAAQAAAgAAAAABAAAKAAAAAAEAAAQAAAAAAQAAAAAAAAABAAACAAAAAAEAAAoAAAAAAQAABAAAAAABAAAAAAAAAAEAAAIAAAAAAQAACgAAAAABAAAEAAAAAAEAAAAAAAAAAQAAAgAAAAABAAAGAAAAAAEAAAIAAAAAAQAABAAAAAABAAAKAAAAAAEAAAQAAAAAAQAAAAAAAAABAAACAAAAAAEAAAoAAAAAAQAABAAAAAABAAAAAAAAAAEAAAIAAAAAAQAACgAAAAABAAAEAAAAAAEAAAAAAAAAAQAAAgAAAAABAAAKAAAAAAEAAAQAAAAAAQAAAAAAAAABAAACAAAAAAEAAAoAAAAAAQAABAAAAAABAAAAAAAAAAEAAAIAAAAAAQAACgAAAAABAAAEAAAAAAEAAAAAAAAAAQAAAgAAAAABAAAKAAAAAAEAAAQAAAAAAQAAAAAAAAABAAACAAAAAAEAAAoAAAAAAQAABAAAAAABAAAAAAAAAAEAAAIAAAAAAQAACgAAAAABAAAEAAAAAAEAAAAAAAAAAQAAAgAAAAABAAAKAAAAAAEAAAQAAAAAAQAAAAAAAAABAAACAAAAAAEAAAgAAAAAAgAAAgAAAAAcc3RzYwAAAAAAAAABAAAAAQAAAMoAAAABAAADPHN0c3oAAAAAAAAAAAAAAMoAAAWIAAAAGQAAAB0AAAAbAAAAHQAAACIAAAAVAAAAEwAAABQAAAAdAAAAIgAAABQAAAAdAAAAHAAAABYAAAAUAAAAHQAAABwAAAAdAAAAIgAAABQAAAAUAAAAEwAAACYAAAAXAAAAFAAAAB0AAAAfAAAAHAAAAB8AAAAZAAAAFAAAABMAAAAeAAAAHwAAABYAAAASAAAAHQAAABwAAAAdAAAAIQAAABQAAAAdAAAAHQAAACAAAAAWAAAAEgAAAB0AAAAeAAAAFgAAABQAAAAgAAAAHAAAAB0AAAAVAAAAEgAAAB0AAAAdAAAAHQAAABYAAAASAAAAHQAAACIAAAAUAAAAHAAAABwAAAAdAAAAIgAAABQAAAAcAAAAHAAAAB8AAAAjAAAAFAAAAB8AAAAVAAAAEwAAABMAAAAgAAAAFgAAABQAAAAiAAAAFAAAABwAAAAcAAAAHQAAACEAAAAUAAAAHQAAAB0AAAAjAAAAFQAAABMAAAAUAAAAHQAAAB0AAAAdAAAAJAAAABUAAAATAAAAEwAAAB0AAAAcAAAAHgAAABMAAAAcAAAAIQAAABQAAAAcAAAAHAAAABwAAAAcAAAAHQAAAB0AAAAfAAAAFAAAABMAAAAUAAAAHgAAACIAAAAUAAAAIAAAABQAAAAcAAAAHQAAAB4AAAAWAAAAFAAAACAAAAAUAAAAFAAAABMAAAAgAAAAFAAAABQAAAATAAAAFwAAABAAAAATAAAAEwAAABcAAAAQAAAAEwAAABMAAAAXAAAAEAAAABMAAAATAAAAFwAAABAAAAATAAAAEwAAABYAAAAQAAAAEwAAABMAAAAhAAAAFAAAAB0AAAAhAAAAFAAAABQAAAAUAAAAJgAAABUAAAAUAAAAEwAAAB4AAAAUAAAAEwAAABQAAAAXAAAAEAAAABQAAAATAAAAFwAAABAAAAAUAAAAEwAAABcAAAAQAAAAFAAAABMAAAAXAAAAEAAAABQAAAATAAAAFwAAABAAAAAUAAAAEwAAABYAAAAQAAAAFAAAABMAAAAWAAAAEAAAABQAAAATAAAAHgAAACsAAAAmAAAAFHN0Y28AAAAAAAAAAQAAADAAAABidWR0YQAAAFptZXRhAAAAAAAAACFoZGxyAAAAAAAAAABtZGlyYXBwbAAAAAAAAAAAAAAAAC1pbHN0AAAAJal0b28AAAAdZGF0YQAAAAEAAAAATGF2ZjU3LjgzLjEwMA==\" type=\"video/mp4\" />\n",
              "             </video>"
            ],
            "text/plain": [
              "<IPython.core.display.HTML object>"
            ]
          },
          "metadata": {
            "tags": []
          },
          "execution_count": 116
        }
      ]
    },
    {
      "metadata": {
        "id": "ObbZc5jpoUXp",
        "colab_type": "code",
        "colab": {
          "base_uri": "https://localhost:8080/",
          "height": 478
        },
        "outputId": "876c296e-ff28-42cd-c857-ad77a1960a59"
      },
      "cell_type": "code",
      "source": [
        "# Evaluation\n",
        "def test(agent,env,epochs,prefix=''):\n",
        "    # Number of won games\n",
        "    score = 0\n",
        "        \n",
        "    for e in range(epochs):\n",
        "        \n",
        "        # At each epoch, we restart to a fresh game and get the initial state\n",
        "        state = env.reset()\n",
        "        # This assumes that the games will end\n",
        "        game_over = False\n",
        "\n",
        "        win = 0\n",
        "        lose = 0\n",
        "\n",
        "        while not game_over:\n",
        "            # The agent performs an action\n",
        "            action = agent.act(state)\n",
        "\n",
        "            # Apply an action to the environment, get the next state, the reward\n",
        "            # and if the games end\n",
        "            prev_state = state\n",
        "            ###########CHANGED\n",
        "            state, reward, game_over, _ = env.act(action, train=False)\n",
        "            ###########CHANGED\n",
        "            \n",
        "\n",
        "            # Update the counters\n",
        "            if reward > 0:\n",
        "                win = win + reward\n",
        "            if reward < 0:\n",
        "                lose = lose -reward\n",
        "        \n",
        "        # Save as a mp4\n",
        "        env.draw(prefix+str(e))\n",
        "\n",
        "        # Update stats\n",
        "        score = score + win-lose\n",
        "\n",
        "        print(\"Win/lose count {}/{}. Average score ({})\"\n",
        "              .format(win, lose, score/(1+e)))\n",
        "    print('Final score: '+str(score/epochs))\n",
        "  \n",
        "env = EnvironmentExploring(grid_size=size, max_time=T,temperature=0.3)\n",
        "agent_cnn = DQN_CNN(size, lr=.1, epsilon = 0.1, memory_size=2000, batch_size = 32)\n",
        "agent_cnn.load(name_weights='cnn_train_exploremodel.h5',name_model='cnn_train_exploremodel.json')\n",
        "test(agent,env,epochs_test,prefix='cnn_test_explore')\n",
        "HTML(display_videos('cnn_test_explore9.mp4'))"
      ],
      "execution_count": 123,
      "outputs": [
        {
          "output_type": "stream",
          "text": [
            "Win/lose count 22.5/2.0. Average score (20.5)\n",
            "Win/lose count 26.5/10.0. Average score (18.5)\n",
            "Win/lose count 29.0/4.0. Average score (20.666666666666668)\n",
            "Win/lose count 24.5/4.0. Average score (20.625)\n",
            "Win/lose count 20.0/8.0. Average score (18.9)\n",
            "Win/lose count 17.5/6.0. Average score (17.666666666666668)\n",
            "Win/lose count 29.0/3.0. Average score (18.857142857142858)\n",
            "Win/lose count 8.5/1.0. Average score (17.4375)\n",
            "Win/lose count 27.0/8.0. Average score (17.61111111111111)\n",
            "Win/lose count 17.5/5.0. Average score (17.1)\n",
            "Final score: 17.1\n"
          ],
          "name": "stdout"
        },
        {
          "output_type": "execute_result",
          "data": {
            "text/html": [
              "<video alt=\"test\" controls>\n",
              "                <source src=\"data:video/mp4;base64,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\" type=\"video/mp4\" />\n",
              "             </video>"
            ],
            "text/plain": [
              "<IPython.core.display.HTML object>"
            ]
          },
          "metadata": {
            "tags": []
          },
          "execution_count": 123
        }
      ]
    },
    {
      "metadata": {
        "id": "Xc3__K2toUXs",
        "colab_type": "text"
      },
      "cell_type": "markdown",
      "source": [
        "***\n",
        "***\n",
        "__BONUS question__ Use the expert DQN from the previous question to generate some winning games. Train a model that mimicks its behavior. Compare the performances."
      ]
    },
    {
      "metadata": {
        "id": "_8sjfNI0oUXt",
        "colab_type": "text"
      },
      "cell_type": "markdown",
      "source": [
        ""
      ]
    },
    {
      "metadata": {
        "id": "O-cVZ_j7oUXu",
        "colab_type": "text"
      },
      "cell_type": "markdown",
      "source": [
        "***"
      ]
    }
  ]
}